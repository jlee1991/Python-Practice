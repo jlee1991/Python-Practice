{
 "cells": [
  {
   "cell_type": "markdown",
   "metadata": {},
   "source": [
    "# Homework 4"
   ]
  },
  {
   "cell_type": "markdown",
   "metadata": {},
   "source": [
    "## Problem 1\n",
    "\n",
    "Represent the following expressions in TensorFlow\n",
    "\n",
    "1) y = 2x^2 + 5 <br>\n",
    "2) z = (3 ∗ y − 4)/x\n",
    "\n",
    "Calculate and print the value of y where x is a series of values starting with 1, incremented by 1 and ending at 9. Define variable x with a placeholder so that you could feed different values of x while calculating y. Use Session.run() method which is fed different x values through a fetch_dict(ionary). Similarly, calculate and print values of z. Generate a TensorBoard graph of your calculations. (15%)"
   ]
  },
  {
   "cell_type": "code",
   "execution_count": 39,
   "metadata": {},
   "outputs": [
    {
     "name": "stdout",
     "output_type": "stream",
     "text": [
      "Outputs for equation y = 2x^2 + 5:\n",
      "When x = 1, y = 7\n",
      "When x = 2, y = 13\n",
      "When x = 3, y = 23\n",
      "When x = 4, y = 37\n",
      "When x = 5, y = 55\n",
      "When x = 6, y = 77\n",
      "When x = 7, y = 103\n",
      "When x = 8, y = 133\n",
      "When x = 9, y = 167\n"
     ]
    }
   ],
   "source": [
    "import tensorflow as tf\n",
    "tf.logging.set_verbosity(tf.logging.ERROR)\n",
    "\n",
    "a = tf.constant(2, name = \"a\")\n",
    "b = tf.constant(5, name = \"b\")\n",
    "\n",
    "print(\"Outputs for equation y = 2x^2 + 5:\")\n",
    "for i in range(1,10):\n",
    "    sess = tf.Session()  #this is an operator called a constructor that creates an object of type Session\n",
    "    x = tf.constant(i, name=\"x\")\n",
    "    y = a*x*x+b\n",
    "    eq1 = sess.run(y)  \n",
    "    print(\"When x = {}, y = {}\".format(i,eq1))\n",
    "    sess.close()"
   ]
  },
  {
   "cell_type": "code",
   "execution_count": 37,
   "metadata": {},
   "outputs": [
    {
     "name": "stdout",
     "output_type": "stream",
     "text": [
      "Outputs for equation z = (3 ∗ y − 4)/x:\n",
      "When x = 1, y = 7, z = 17.0\n",
      "When x = 2, y = 13, z = 17.5\n",
      "When x = 3, y = 23, z = 21.666666666666668\n",
      "When x = 4, y = 37, z = 26.75\n",
      "When x = 5, y = 55, z = 32.2\n",
      "When x = 6, y = 77, z = 37.833333333333336\n",
      "When x = 7, y = 103, z = 43.57142857142857\n",
      "When x = 8, y = 133, z = 49.375\n",
      "When x = 9, y = 167, z = 55.22222222222222\n"
     ]
    }
   ],
   "source": [
    "c = tf.constant(3, name = \"c\")\n",
    "d = tf.constant(4, name = \"d\")\n",
    "    \n",
    "print(\"Outputs for equation z = (3 ∗ y − 4)/x:\")\n",
    "for i in range(1,10):\n",
    "    sess = tf.Session()  #this is an operator called a constructor that creates an object of type Session\n",
    "    x = tf.constant(i, name=\"x\")\n",
    "    y = a*x*x+b\n",
    "    eq1 = sess.run(y)  \n",
    "    z = (c*y-d)/x\n",
    "    eq2 = sess.run(z)\n",
    "    print(\"When x = {}, y = {}, z = {}\".format(i,eq1,eq2))\n",
    "    sess.close()"
   ]
  },
  {
   "cell_type": "code",
   "execution_count": null,
   "metadata": {},
   "outputs": [],
   "source": [
    "LOG_DIR = './log'\n",
    "get_ipython().system_raw(\n",
    "'tensorboard --logdir {} --host 0.0.0.0 --port 6006 &'\n",
    ".format(LOG_DIR)\n",
    ")\n",
    "# Install\n",
    "!npm install -g localtunnel\n",
    "# Tunnel port 6006 (TensorBoard assumed running)\n",
    "get_ipython().system_raw('lt --port 6006 >> url.txt 2>&1 &')"
   ]
  },
  {
   "cell_type": "markdown",
   "metadata": {},
   "source": [
    "## Problem 2\n",
    "\n",
    "Consider 100 points along the straight line in (x, y) plane represented by the linear equation y = 0.3x + 0.2. Distribute those points along the line uniformly in the interval between -2.0 and 3.0. To the y coordinate of each point add a random normally distributed value with standard deviation of 1 and mean 0. You have created and artificial set of random measurements. Create a shallow neural network with one layer which will be able to predict y value corresponding to any x value in the above interval. Implement and train the network using TensorFlow API. Report on the accuracy of your model. This is a rather trivial problem and you do not need neural networks to solve it. We are practicing TensorFlow API. This was problem #2 of your Problem set #1. Then we did it with Keras. Now, you are asked to implement this problem in TensorFlow.(25%)"
   ]
  },
  {
   "cell_type": "code",
   "execution_count": 4,
   "metadata": {},
   "outputs": [
    {
     "data": {
      "text/plain": [
       "<matplotlib.collections.PathCollection at 0x1a397e2ac8>"
      ]
     },
     "execution_count": 4,
     "metadata": {},
     "output_type": "execute_result"
    },
    {
     "data": {
      "image/png": "[encoded data removed]",
      "text/plain": [
       "<Figure size 1080x360 with 1 Axes>"
      ]
     },
     "metadata": {
      "needs_background": "light"
     },
     "output_type": "display_data"
    }
   ],
   "source": [
    "import tensorflow as tf\n",
    "import matplotlib.pyplot as plt\n",
    "import numpy as np\n",
    "\n",
    "from matplotlib.pyplot import figure\n",
    "from sklearn.model_selection import train_test_split\n",
    "\n",
    "tf.logging.set_verbosity(tf.logging.ERROR)\n",
    "\n",
    "#Plot 100 points between -2 and 3\n",
    "figure(figsize=(15, 5))\n",
    "formula = '0.3*x + 0.2'\n",
    "x = np.arange(-2.00, 3.00, 0.05) \n",
    "\n",
    "#Add Random Normal Distribution\n",
    "mu, sigma = 0, 0.1 # mean and standard deviation (decreasing noise from 1 to 0.1)\n",
    "y = eval(formula) + np.random.normal(mu, sigma,100)\n",
    "\n",
    "plt.scatter(x, y)"
   ]
  },
  {
   "cell_type": "markdown",
   "metadata": {},
   "source": [
    "## Problem 3\n",
    "\n",
    "Using code in the attached file named graph_and_summaries.py, demonstrate complex TensorBoard Graphs and Summaries. Capture a few of resulting graphs and summaries. Demonstrate that nested graphs could be expanded and collapsed. Please fix the code if it needs fixing. Provide us with working code. Code is a bit old and you might have to replace older TF calls with the current versions. This code paints several TensorBoard graphs displayed in the notes for Lecture 7. (10%)"
   ]
  },
  {
   "cell_type": "code",
   "execution_count": null,
   "metadata": {},
   "outputs": [],
   "source": []
  },
  {
   "cell_type": "markdown",
   "metadata": {},
   "source": [
    "## Problem 4\n",
    "\n",
    "During the lecture on Neural Machine Translation we discussed the content of Jupyter notebook named: nmt_with_attention.ipynb. The notebook is from TensorFlow tutorial site which implemented Seq2Seq model for translation between two languages using GRU Encoder-Decoder with Attention. All supporting files are uploaded to the folder of Lecture 8. Select a data set from the site http://www.manythings.org. Our suggestion is to use languages with a large data set, i.e. number of pairs of sentences. Do not use German since we already have German examples in the notes. \n",
    "\n",
    "Set the number of sentences, the maximum length of sentences and the size of vocabulary to values close to those mentioned in notes. Set the size of the training and testing datasets to the values close to those mentioned in notes. Set the size of the context vector close to the one used in notes. (50%)"
   ]
  },
  {
   "cell_type": "markdown",
   "metadata": {},
   "source": [
    "a) Next, train both network and record the resulting BLUE scores."
   ]
  },
  {
   "cell_type": "code",
   "execution_count": null,
   "metadata": {},
   "outputs": [],
   "source": []
  },
  {
   "cell_type": "markdown",
   "metadata": {},
   "source": [
    "b) Use three sentences of length, 5, 8 and 10 and record their translations produced by both versions of your network."
   ]
  },
  {
   "cell_type": "code",
   "execution_count": null,
   "metadata": {},
   "outputs": [],
   "source": []
  },
  {
   "cell_type": "markdown",
   "metadata": {},
   "source": [
    "c) Finally, capture the attention heat maps for those 3 sentences. Examine the heat maps for any patterns. There might be none."
   ]
  },
  {
   "cell_type": "code",
   "execution_count": null,
   "metadata": {},
   "outputs": [],
   "source": []
  }
 ],
 "metadata": {
  "kernelspec": {
   "display_name": "Python 3",
   "language": "python",
   "name": "python3"
  },
  "language_info": {
   "codemirror_mode": {
    "name": "ipython",
    "version": 3
   },
   "file_extension": ".py",
   "mimetype": "text/x-python",
   "name": "python",
   "nbconvert_exporter": "python",
   "pygments_lexer": "ipython3",
   "version": "3.7.1"
  }
 },
 "nbformat": 4,
 "nbformat_minor": 2
}
