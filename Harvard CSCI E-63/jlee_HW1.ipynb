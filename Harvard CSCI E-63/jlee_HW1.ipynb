{
 "cells": [
  {
   "cell_type": "markdown",
   "metadata": {},
   "source": [
    "# Homework 1"
   ]
  },
  {
   "cell_type": "markdown",
   "metadata": {},
   "source": [
    "Please, describe every step of your work and present all intermediate and final results in a Word document. If you know how, please be free to organize your submission in one Jupyter notebook.  Please, copy-past text (ASCII) version of all essential commands and snippets of results into the Word document with explanations of the purpose of those commands. We cannot retype text that is in JPG images. Please, always submit a separate copy of the original, working scripts and/or class files you used. Sometimes we need to run your code and retyping is too costly. Please include in your MS Word document all the relevant portions of the console output or output files. PLEASE DO NOT EMBED files into your MS Word document. For issues and comments visit the class Piazza site."
   ]
  },
  {
   "cell_type": "markdown",
   "metadata": {},
   "source": [
    "<b>Problem 1.</b> Use the text of the Universal Declaration of Human Rights (UDHR). \n",
    "\n",
    "1. Create a table for 4 languages of your choice. Use that table to collect statistics about those languages. You do not have to populate the table from your code. You may, but you may also determine individual values separately and enter them in the table manually. <br><br><i>For each language in the UHDR</i><br> a. Number of words <br> b. Number of unique words<br> c. Average length of words<br> d. Number of sentences contained<br> e. Average number of words per sentence<br>\n",
    "\n",
    "\n",
    "2. Create a distribution of sentence lengths for all four language. Distribution of sentence lengths presents the number of sentences of varying length. Plot those (non-cumulative) distributions for all four languages using one diagram. (25%)"
   ]
  },
  {
   "cell_type": "code",
   "execution_count": 10,
   "metadata": {},
   "outputs": [
    {
     "data": {
      "text/plain": [
       "['Italian_Italiano-Latin1',\n",
       " 'English-Latin1',\n",
       " 'Spanish-Latin1',\n",
       " 'French_Francais-Latin1']"
      ]
     },
     "execution_count": 10,
     "metadata": {},
     "output_type": "execute_result"
    }
   ],
   "source": [
    "import nltk\n",
    "import matplotlib.pyplot as plt\n",
    "from nltk.corpus import udhr\n",
    "from matplotlib.pyplot import figure\n",
    "\n",
    "#Find the FileIDs of the languages\n",
    "#nltk.corpus.udhr.fileids()\n",
    "\n",
    "#Select Languages for Representation\n",
    "languages = ['Italian_Italiano-Latin1', 'English-Latin1', 'Spanish-Latin1','French_Francais-Latin1']\n",
    "languages"
   ]
  },
  {
   "cell_type": "code",
   "execution_count": 23,
   "metadata": {},
   "outputs": [
    {
     "data": {
      "text/plain": [
       "[('Italian_Italiano-Latin1', 1723),\n",
       " ('English-Latin1', 1781),\n",
       " ('Spanish-Latin1', 1763),\n",
       " ('French_Francais-Latin1', 1935)]"
      ]
     },
     "execution_count": 23,
     "metadata": {},
     "output_type": "execute_result"
    }
   ],
   "source": [
    "#Part 1: Various Statistics of Four Languages\n",
    "\n",
    "#Number of Words\n",
    "num_words = [(lang, len(udhr.words(lang))) for lang in languages]\n",
    "num_words"
   ]
  },
  {
   "cell_type": "code",
   "execution_count": 4,
   "metadata": {},
   "outputs": [
    {
     "data": {
      "text/plain": [
       "[('Italian_Italiano-Latin1', 578),\n",
       " ('English-Latin1', 533),\n",
       " ('Spanish-Latin1', 542),\n",
       " ('French_Francais-Latin1', 567)]"
      ]
     },
     "execution_count": 4,
     "metadata": {},
     "output_type": "execute_result"
    }
   ],
   "source": [
    "#Number of Unique Words\n",
    "num_uniq_words = [(lang, len(set(udhr.words(lang)))) for lang in languages]\n",
    "num_uniq_words"
   ]
  },
  {
   "cell_type": "code",
   "execution_count": 14,
   "metadata": {},
   "outputs": [
    {
     "data": {
      "text/plain": [
       "[('Italian_Italiano-Latin1', 4.908879860708067),\n",
       " ('English-Latin1', 4.644020213363279),\n",
       " ('Spanish-Latin1', 4.712989222915485),\n",
       " ('French_Francais-Latin1', 4.281136950904393)]"
      ]
     },
     "execution_count": 14,
     "metadata": {},
     "output_type": "execute_result"
    }
   ],
   "source": [
    "#Average Length of Words\n",
    "len_words = [(lang, sum(len(i) for i in udhr.words(lang))/len(udhr.words(lang))) for lang in languages]\n",
    "len_words"
   ]
  },
  {
   "cell_type": "code",
   "execution_count": 6,
   "metadata": {},
   "outputs": [
    {
     "data": {
      "text/plain": [
       "[('Italian_Italiano-Latin1', 51),\n",
       " ('English-Latin1', 67),\n",
       " ('Spanish-Latin1', 58),\n",
       " ('French_Francais-Latin1', 57)]"
      ]
     },
     "execution_count": 6,
     "metadata": {},
     "output_type": "execute_result"
    }
   ],
   "source": [
    "#Number of Sentences Contained\n",
    "num_sents = [(lang, len(udhr.sents(lang))) for lang in languages]\n",
    "num_sents"
   ]
  },
  {
   "cell_type": "code",
   "execution_count": 7,
   "metadata": {},
   "outputs": [
    {
     "data": {
      "text/plain": [
       "[('Italian_Italiano-Latin1', 33.78431372549019),\n",
       " ('English-Latin1', 26.582089552238806),\n",
       " ('Spanish-Latin1', 30.396551724137932),\n",
       " ('French_Francais-Latin1', 33.94736842105263)]"
      ]
     },
     "execution_count": 7,
     "metadata": {},
     "output_type": "execute_result"
    }
   ],
   "source": [
    "#Average Number of Words per Sentence\n",
    "wps = [(lang,(len(udhr.words(lang))/len(udhr.sents(lang)))) for lang in languages]\n",
    "wps"
   ]
  },
  {
   "cell_type": "code",
   "execution_count": 8,
   "metadata": {},
   "outputs": [
    {
     "data": {
      "text/html": [
       "<div>\n",
       "<style scoped>\n",
       "    .dataframe tbody tr th:only-of-type {\n",
       "        vertical-align: middle;\n",
       "    }\n",
       "\n",
       "    .dataframe tbody tr th {\n",
       "        vertical-align: top;\n",
       "    }\n",
       "\n",
       "    .dataframe thead th {\n",
       "        text-align: right;\n",
       "    }\n",
       "</style>\n",
       "<table border=\"1\" class=\"dataframe\">\n",
       "  <thead>\n",
       "    <tr style=\"text-align: right;\">\n",
       "      <th></th>\n",
       "      <th>Number of Words</th>\n",
       "      <th>Number of Unique Words</th>\n",
       "      <th>Average Length of Words</th>\n",
       "      <th>Number of Sentences Contained</th>\n",
       "      <th>Average Number of Words per Sentence</th>\n",
       "    </tr>\n",
       "  </thead>\n",
       "  <tbody>\n",
       "    <tr>\n",
       "      <th>Italian_Italiano-Latin1</th>\n",
       "      <td>1723.0</td>\n",
       "      <td>578.0</td>\n",
       "      <td>4.908880</td>\n",
       "      <td>51.0</td>\n",
       "      <td>33.784314</td>\n",
       "    </tr>\n",
       "    <tr>\n",
       "      <th>English-Latin1</th>\n",
       "      <td>1781.0</td>\n",
       "      <td>533.0</td>\n",
       "      <td>4.644020</td>\n",
       "      <td>67.0</td>\n",
       "      <td>26.582090</td>\n",
       "    </tr>\n",
       "    <tr>\n",
       "      <th>Spanish-Latin1</th>\n",
       "      <td>1763.0</td>\n",
       "      <td>542.0</td>\n",
       "      <td>4.712989</td>\n",
       "      <td>58.0</td>\n",
       "      <td>30.396552</td>\n",
       "    </tr>\n",
       "    <tr>\n",
       "      <th>French_Francais-Latin1</th>\n",
       "      <td>1935.0</td>\n",
       "      <td>567.0</td>\n",
       "      <td>4.281137</td>\n",
       "      <td>57.0</td>\n",
       "      <td>33.947368</td>\n",
       "    </tr>\n",
       "  </tbody>\n",
       "</table>\n",
       "</div>"
      ],
      "text/plain": [
       "                         Number of Words  Number of Unique Words  \\\n",
       "Italian_Italiano-Latin1           1723.0                   578.0   \n",
       "English-Latin1                    1781.0                   533.0   \n",
       "Spanish-Latin1                    1763.0                   542.0   \n",
       "French_Francais-Latin1            1935.0                   567.0   \n",
       "\n",
       "                         Average Length of Words  \\\n",
       "Italian_Italiano-Latin1                 4.908880   \n",
       "English-Latin1                          4.644020   \n",
       "Spanish-Latin1                          4.712989   \n",
       "French_Francais-Latin1                  4.281137   \n",
       "\n",
       "                         Number of Sentences Contained  \\\n",
       "Italian_Italiano-Latin1                           51.0   \n",
       "English-Latin1                                    67.0   \n",
       "Spanish-Latin1                                    58.0   \n",
       "French_Francais-Latin1                            57.0   \n",
       "\n",
       "                         Average Number of Words per Sentence  \n",
       "Italian_Italiano-Latin1                             33.784314  \n",
       "English-Latin1                                      26.582090  \n",
       "Spanish-Latin1                                      30.396552  \n",
       "French_Francais-Latin1                              33.947368  "
      ]
     },
     "execution_count": 8,
     "metadata": {},
     "output_type": "execute_result"
    }
   ],
   "source": [
    "import pandas as pd\n",
    "udhrStats = pd.DataFrame()\n",
    "\n",
    "#Manually Insert Values (from values above) in Pandas\n",
    "\n",
    "#Number of Words\n",
    "udhrStats.at['Italian_Italiano-Latin1', 'Number of Words'] = 1723\n",
    "udhrStats.at['English-Latin1', 'Number of Words'] = 1781\n",
    "udhrStats.at['Spanish-Latin1', 'Number of Words'] = 1763\n",
    "udhrStats.at['French_Francais-Latin1', 'Number of Words'] =  1935\n",
    "\n",
    "#Number of Unique Words\n",
    "udhrStats.at['Italian_Italiano-Latin1', 'Number of Unique Words'] = 578\n",
    "udhrStats.at['English-Latin1', 'Number of Unique Words'] = 533\n",
    "udhrStats.at['Spanish-Latin1', 'Number of Unique Words'] = 542\n",
    "udhrStats.at['French_Francais-Latin1', 'Number of Unique Words'] = 567\n",
    "\n",
    "#Average Length of Words\n",
    "udhrStats.at['Italian_Italiano-Latin1', 'Average Length of Words'] = 4.908879860708067\n",
    "udhrStats.at['English-Latin1', 'Average Length of Words'] = 4.644020213363279\n",
    "udhrStats.at['Spanish-Latin1', 'Average Length of Words'] = 4.712989222915485\n",
    "udhrStats.at['French_Francais-Latin1', 'Average Length of Words'] = 4.281136950904393\n",
    "\n",
    "#Number of Sentences Contained\n",
    "udhrStats.at['Italian_Italiano-Latin1', 'Number of Sentences Contained'] = 51\n",
    "udhrStats.at['English-Latin1', 'Number of Sentences Contained'] = 67\n",
    "udhrStats.at['Spanish-Latin1', 'Number of Sentences Contained'] = 58\n",
    "udhrStats.at['French_Francais-Latin1', 'Number of Sentences Contained'] = 57\n",
    "\n",
    "#Average Number of Words per Sentence\n",
    "udhrStats.at['Italian_Italiano-Latin1', 'Average Number of Words per Sentence'] = 33.78431372549019\n",
    "udhrStats.at['English-Latin1', 'Average Number of Words per Sentence'] = 26.582089552238806\n",
    "udhrStats.at['Spanish-Latin1', 'Average Number of Words per Sentence'] = 30.396551724137932\n",
    "udhrStats.at['French_Francais-Latin1', 'Average Number of Words per Sentence'] = 33.94736842105263\n",
    "\n",
    "udhrStats"
   ]
  },
  {
   "cell_type": "code",
   "execution_count": 10,
   "metadata": {},
   "outputs": [
    {
     "data": {
      "image/png": "[encoded data removed]",
      "text/plain": [
       "<Figure size 1080x360 with 1 Axes>"
      ]
     },
     "metadata": {
      "needs_background": "light"
     },
     "output_type": "display_data"
    }
   ],
   "source": [
    "#Part 2: Variable Length of Each Sentence in Each Language\n",
    "length = nltk.ConditionalFreqDist((lang, len(sents)) for lang in languages for sents in udhr.sents(lang))\n",
    "figure(figsize=(15, 5))\n",
    "length.plot(cumulative=False)"
   ]
  },
  {
   "cell_type": "markdown",
   "metadata": {},
   "source": [
    "<b>Problem 2.</b> Use the text of the Inaugural Addresses (Inaugural). \n",
    "\n",
    "1. Identify 10 most frequently used words longer than 7 characters in the entire corpus of Inaugural Addresses. Do not identify 10 words for every speech but rather 10 words for the entire corpus. Which among those words has the largest number of synonyms? \n",
    "2. List all synonyms for those 10 words\n",
    "3. Which one of those 10 words has the largest number of hyponyms? \n",
    "4. List all hyponyms of those 10 most frequently used “long” words. \n",
    "\n",
    "The purpose of this problem is to familiarize you with WordNet and concepts of synonyms and hyponyms. (25%)\n",
    "\n",
    "<i> Note: Read Chapter 2 in http://www.nltk.org/book/ </i>"
   ]
  },
  {
   "cell_type": "code",
   "execution_count": 5,
   "metadata": {},
   "outputs": [
    {
     "data": {
      "text/plain": [
       "[('Government', 3),\n",
       " ('Government', 5),\n",
       " ('Government', 1),\n",
       " ('Government', 3),\n",
       " ('Country', 7),\n",
       " ('Country', 3),\n",
       " ('Country', 3),\n",
       " ('Country', 2),\n",
       " ('Country', 2),\n",
       " ('Citizens', 1),\n",
       " ('America', 8),\n",
       " ('America', 1),\n",
       " ('Constitution', 3),\n",
       " ('Constitution', 5),\n",
       " ('Constitution', 5),\n",
       " ('Constitution', 5),\n",
       " ('Constitution', 2),\n",
       " ('Nations', 7),\n",
       " ('Nations', 3),\n",
       " ('Nations', 3),\n",
       " ('Nations', 1),\n",
       " ('Freedom', 1),\n",
       " ('Freedom', 2),\n",
       " ('American', 1),\n",
       " ('American', 3),\n",
       " ('American', 1),\n",
       " ('American', 1),\n",
       " ('American', 1),\n",
       " ('National', 2),\n",
       " ('National', 1),\n",
       " ('National', 1),\n",
       " ('National', 1),\n",
       " ('National', 1),\n",
       " ('National', 4),\n",
       " ('National', 1),\n",
       " ('National', 1)]"
      ]
     },
     "execution_count": 5,
     "metadata": {},
     "output_type": "execute_result"
    }
   ],
   "source": [
    "import nltk\n",
    "from nltk import FreqDist\n",
    "from collections import Counter\n",
    "from nltk.corpus import inaugural\n",
    "from nltk.corpus import wordnet as wn\n",
    "\n",
    "#Part 1: Most Used Words Over 7 in Character Length\n",
    "\n",
    "#Find the frequency of the top ten inaugural words \n",
    "freq = [s.title() for s in inaugural.words() if len(s) >= 7]\n",
    "#fdist = FreqDist(freq)\n",
    "#test = fdist.keys()\n",
    "\n",
    "#Find the most commonly used words of the above list\n",
    "words_to_count = (word for word in freq)\n",
    "most_common = [i for (i,j) in Counter(words_to_count).most_common(10)]\n",
    "\n",
    "#Count the synonyms \n",
    "synonym_counts = [(i, len(set(synset.lemma_names()))) for i in most_common for synset in wn.synsets(i)]\n",
    "synonym_counts\n",
    "\n",
    "#Constitution has the most synonyms of this group (7+ letters)\n",
    "#Clarified in person with the professor that the below (and subsequent) output type is an acceptable submission\n",
    "#Note: Government is counted differently than government"
   ]
  },
  {
   "cell_type": "code",
   "execution_count": 7,
   "metadata": {},
   "outputs": [
    {
     "data": {
      "text/plain": [
       "[('Government', ['government', 'authorities', 'regime']),\n",
       " ('Government',\n",
       "  ['government',\n",
       "   'governing',\n",
       "   'governance',\n",
       "   'government_activity',\n",
       "   'administration']),\n",
       " ('Government', ['government']),\n",
       " ('Government', ['politics', 'political_science', 'government']),\n",
       " ('Country',\n",
       "  ['state',\n",
       "   'nation',\n",
       "   'country',\n",
       "   'land',\n",
       "   'commonwealth',\n",
       "   'res_publica',\n",
       "   'body_politic']),\n",
       " ('Country', ['country', 'state', 'land']),\n",
       " ('Country', ['nation', 'land', 'country']),\n",
       " ('Country', ['country', 'rural_area']),\n",
       " ('Country', ['area', 'country']),\n",
       " ('Citizens', ['citizen']),\n",
       " ('America',\n",
       "  ['United_States',\n",
       "   'United_States_of_America',\n",
       "   'America',\n",
       "   'the_States',\n",
       "   'US',\n",
       "   'U.S.',\n",
       "   'USA',\n",
       "   'U.S.A.']),\n",
       " ('America', ['America']),\n",
       " ('Constitution', ['fundamental_law', 'organic_law', 'constitution']),\n",
       " ('Constitution',\n",
       "  ['constitution',\n",
       "   'establishment',\n",
       "   'formation',\n",
       "   'organization',\n",
       "   'organisation']),\n",
       " ('Constitution',\n",
       "  ['United_States_Constitution',\n",
       "   'U.S._Constitution',\n",
       "   'US_Constitution',\n",
       "   'Constitution',\n",
       "   'Constitution_of_the_United_States']),\n",
       " ('Constitution',\n",
       "  ['constitution',\n",
       "   'composition',\n",
       "   'physical_composition',\n",
       "   'makeup',\n",
       "   'make-up']),\n",
       " ('Constitution', ['Constitution', 'Old_Ironsides']),\n",
       " ('Nations',\n",
       "  ['state',\n",
       "   'nation',\n",
       "   'country',\n",
       "   'land',\n",
       "   'commonwealth',\n",
       "   'res_publica',\n",
       "   'body_politic']),\n",
       " ('Nations', ['nation', 'land', 'country']),\n",
       " ('Nations', ['Nation', 'Carry_Nation', 'Carry_Amelia_Moore_Nation']),\n",
       " ('Nations', ['nation']),\n",
       " ('Freedom', ['freedom']),\n",
       " ('Freedom', ['exemption', 'freedom']),\n",
       " ('American', ['American']),\n",
       " ('American', ['American_English', 'American_language', 'American']),\n",
       " ('American', ['American']),\n",
       " ('American', ['American']),\n",
       " ('American', ['American']),\n",
       " ('National', ['national', 'subject']),\n",
       " ('National', ['national']),\n",
       " ('National', ['national']),\n",
       " ('National', ['national']),\n",
       " ('National', ['national']),\n",
       " ('National', ['home', 'interior', 'internal', 'national']),\n",
       " ('National', ['national']),\n",
       " ('National', ['national'])]"
      ]
     },
     "execution_count": 7,
     "metadata": {},
     "output_type": "execute_result"
    }
   ],
   "source": [
    "#Part 2: List all synonyms for those 10 words\n",
    "\n",
    "synonyms = [(i, synset.lemma_names()) for i in most_common for synset in wn.synsets(i)]\n",
    "synonyms"
   ]
  },
  {
   "cell_type": "code",
   "execution_count": 8,
   "metadata": {},
   "outputs": [
    {
     "data": {
      "text/plain": [
       "[('Government', 23),\n",
       " ('Government', 6),\n",
       " ('Government', 0),\n",
       " ('Government', 3),\n",
       " ('Country', 18),\n",
       " ('Country', 22),\n",
       " ('Country', 15),\n",
       " ('Country', 10),\n",
       " ('Country', 50),\n",
       " ('Citizens', 9),\n",
       " ('America', 0),\n",
       " ('America', 0),\n",
       " ('Constitution', 0),\n",
       " ('Constitution', 10),\n",
       " ('Constitution', 0),\n",
       " ('Constitution', 7),\n",
       " ('Constitution', 0),\n",
       " ('Nations', 18),\n",
       " ('Nations', 15),\n",
       " ('Nations', 0),\n",
       " ('Nations', 2),\n",
       " ('Freedom', 14),\n",
       " ('Freedom', 5),\n",
       " ('American', 99),\n",
       " ('American', 8),\n",
       " ('American', 7),\n",
       " ('American', 0),\n",
       " ('American', 0),\n",
       " ('National', 4),\n",
       " ('National', 0),\n",
       " ('National', 0),\n",
       " ('National', 0),\n",
       " ('National', 0),\n",
       " ('National', 0),\n",
       " ('National', 0),\n",
       " ('National', 0)]"
      ]
     },
     "execution_count": 8,
     "metadata": {},
     "output_type": "execute_result"
    }
   ],
   "source": [
    "#Part 3: Largest Number of Hyponyms\n",
    "\n",
    "hyponyms = [(i, sum(len(set(hyponyms.lemma_names())) for hyponyms in synset.hyponyms())) for i in most_common for synset in wn.synsets(i)]\n",
    "hyponyms\n",
    "\n",
    "#American has the most hyponyms of this group (7+ letters)"
   ]
  },
  {
   "cell_type": "code",
   "execution_count": 9,
   "metadata": {},
   "outputs": [
    {
     "data": {
      "text/plain": [
       "[('Government',\n",
       "  [['ancien_regime'],\n",
       "   ['authoritarian_state', 'authoritarian_regime'],\n",
       "   ['bureaucracy'],\n",
       "   ['court', 'royal_court'],\n",
       "   ['Downing_Street'],\n",
       "   ['empire'],\n",
       "   ['federal_government'],\n",
       "   ['government-in-exile'],\n",
       "   ['local_government'],\n",
       "   ['military_government', 'stratocracy'],\n",
       "   ['palace'],\n",
       "   ['papacy', 'pontificate'],\n",
       "   ['puppet_government', 'puppet_state', 'pupet_regime'],\n",
       "   ['state'],\n",
       "   ['state_government'],\n",
       "   ['totalitarian_state', 'totalitation_regime']]),\n",
       " ('Government',\n",
       "  [['legislation', 'legislating', 'lawmaking'],\n",
       "   ['misgovernment', 'misrule'],\n",
       "   ['trust_busting']]),\n",
       " ('Government', []),\n",
       " ('Government', [['geopolitics'], ['realpolitik', 'practical_politics']]),\n",
       " ('Country',\n",
       "  [['ally'],\n",
       "   ['city_state', 'city-state'],\n",
       "   ['commonwealth_country'],\n",
       "   ['developing_country'],\n",
       "   ['Dominion'],\n",
       "   ['foreign_country'],\n",
       "   ['Reich'],\n",
       "   ['rogue_state', 'renegade_state', 'rogue_nation'],\n",
       "   ['sea_power'],\n",
       "   ['suzerain'],\n",
       "   ['world_power', 'major_power', 'great_power', 'power', 'superpower']]),\n",
       " ('Country',\n",
       "  [['African_country', 'African_nation'],\n",
       "   ['Asian_country', 'Asian_nation'],\n",
       "   ['banana_republic'],\n",
       "   ['buffer_state', 'buffer_country'],\n",
       "   ['European_country', 'European_nation'],\n",
       "   ['fatherland',\n",
       "    'homeland',\n",
       "    'motherland',\n",
       "    'mother_country',\n",
       "    'country_of_origin',\n",
       "    'native_land'],\n",
       "   ['kingdom'],\n",
       "   ['North_American_country', 'North_American_nation'],\n",
       "   ['South_American_country', 'South_American_nation'],\n",
       "   ['sultanate'],\n",
       "   ['tax_haven']]),\n",
       " ('Country',\n",
       "  [['British', 'British_people', 'Brits'],\n",
       "   ['Dutch', 'Dutch_people'],\n",
       "   ['English', 'English_people'],\n",
       "   ['French', 'French_people'],\n",
       "   ['Irish', 'Irish_people'],\n",
       "   ['Spanish', 'Spanish_people'],\n",
       "   ['Swiss', 'Swiss_people']]),\n",
       " ('Country',\n",
       "  [['backwoods', 'back_country', 'boondocks', 'hinterland'],\n",
       "   ['countryside'],\n",
       "   ['farmland', 'farming_area'],\n",
       "   ['scrubland'],\n",
       "   ['weald'],\n",
       "   ['wold']]),\n",
       " ('Country',\n",
       "  [['anchorage', 'anchorage_ground'],\n",
       "   ['arena'],\n",
       "   ['bed_ground', 'bed-ground', 'bedground'],\n",
       "   ['block', 'city_block'],\n",
       "   ['broadcast_area'],\n",
       "   ['center', 'centre', 'middle', 'heart', 'eye'],\n",
       "   ['corner'],\n",
       "   ['corner'],\n",
       "   ['danger'],\n",
       "   ['disaster_area'],\n",
       "   ['free_port', 'free_zone'],\n",
       "   ['haunt', 'hangout', 'resort', 'repair', 'stamping_ground'],\n",
       "   ['hearth', 'fireside'],\n",
       "   ['high_country'],\n",
       "   ['hunting_ground'],\n",
       "   ['neighborhood'],\n",
       "   ['no-go_area'],\n",
       "   [\"no_man's_land\"],\n",
       "   ['open', 'clear'],\n",
       "   ['quadrant'],\n",
       "   ['quadrant'],\n",
       "   ['rain_shadow'],\n",
       "   ['resort_area', 'playground', 'vacation_spot'],\n",
       "   ['retreat'],\n",
       "   ['safety', 'refuge'],\n",
       "   ['scene'],\n",
       "   ['section'],\n",
       "   ['shrubbery'],\n",
       "   ['space'],\n",
       "   ['staging_area'],\n",
       "   ['tank_farm'],\n",
       "   [\"winner's_circle\"]]),\n",
       " ('Citizens',\n",
       "  [['active_citizen'],\n",
       "   ['civilian'],\n",
       "   ['freeman', 'freewoman'],\n",
       "   ['private_citizen'],\n",
       "   ['repatriate'],\n",
       "   ['thane'],\n",
       "   ['voter', 'elector']]),\n",
       " ('America', []),\n",
       " ('America', []),\n",
       " ('Constitution', []),\n",
       " ('Constitution',\n",
       "  [['collectivization', 'collectivisation'],\n",
       "   ['colonization', 'colonisation', 'settlement'],\n",
       "   ['communization', 'communisation'],\n",
       "   ['federation'],\n",
       "   ['unionization', 'unionisation']]),\n",
       " ('Constitution', []),\n",
       " ('Constitution',\n",
       "  [['genotype', 'genetic_constitution'],\n",
       "   ['karyotype'],\n",
       "   ['phenotype'],\n",
       "   ['structure'],\n",
       "   ['texture', 'grain']]),\n",
       " ('Constitution', []),\n",
       " ('Nations',\n",
       "  [['ally'],\n",
       "   ['city_state', 'city-state'],\n",
       "   ['commonwealth_country'],\n",
       "   ['developing_country'],\n",
       "   ['Dominion'],\n",
       "   ['foreign_country'],\n",
       "   ['Reich'],\n",
       "   ['rogue_state', 'renegade_state', 'rogue_nation'],\n",
       "   ['sea_power'],\n",
       "   ['suzerain'],\n",
       "   ['world_power', 'major_power', 'great_power', 'power', 'superpower']]),\n",
       " ('Nations',\n",
       "  [['British', 'British_people', 'Brits'],\n",
       "   ['Dutch', 'Dutch_people'],\n",
       "   ['English', 'English_people'],\n",
       "   ['French', 'French_people'],\n",
       "   ['Irish', 'Irish_people'],\n",
       "   ['Spanish', 'Spanish_people'],\n",
       "   ['Swiss', 'Swiss_people']]),\n",
       " ('Nations', []),\n",
       " ('Nations', [['tribe', 'federation_of_tribes']]),\n",
       " ('Freedom',\n",
       "  [['academic_freedom'],\n",
       "   ['civil_liberty', 'political_liberty'],\n",
       "   ['enfranchisement'],\n",
       "   ['free_hand', 'blank_check'],\n",
       "   ['free_rein', 'play'],\n",
       "   ['freedom_of_the_seas'],\n",
       "   ['independence', 'independency'],\n",
       "   ['liberty'],\n",
       "   ['liberty'],\n",
       "   ['svoboda']]),\n",
       " ('Freedom',\n",
       "  [['amnesty'],\n",
       "   ['diplomatic_immunity'],\n",
       "   ['grandfather_clause'],\n",
       "   ['impunity'],\n",
       "   ['indemnity']]),\n",
       " ('American',\n",
       "  [['African-American', 'African_American', 'Afro-American', 'Black_American'],\n",
       "   ['Alabaman', 'Alabamian'],\n",
       "   ['Alaskan'],\n",
       "   ['Anglo-American'],\n",
       "   ['Appalachian'],\n",
       "   ['Arizonan', 'Arizonian'],\n",
       "   ['Arkansan', 'Arkansawyer'],\n",
       "   ['Asian_American'],\n",
       "   ['Bay_Stater'],\n",
       "   ['Bostonian'],\n",
       "   ['Californian'],\n",
       "   ['Carolinian'],\n",
       "   ['Coloradan'],\n",
       "   ['Connecticuter'],\n",
       "   ['Creole'],\n",
       "   ['Delawarean', 'Delawarian'],\n",
       "   ['Floridian'],\n",
       "   ['Franco-American'],\n",
       "   ['Georgian'],\n",
       "   ['German_American'],\n",
       "   ['Hawaiian'],\n",
       "   ['Idahoan'],\n",
       "   ['Illinoisan'],\n",
       "   ['Indianan', 'Hoosier'],\n",
       "   ['Iowan'],\n",
       "   ['Kansan'],\n",
       "   ['Kentuckian', 'Bluegrass_Stater'],\n",
       "   ['Louisianan', 'Louisianian'],\n",
       "   ['Mainer', 'Down_Easter'],\n",
       "   ['Marylander'],\n",
       "   ['Michigander', 'Wolverine'],\n",
       "   ['Minnesotan', 'Gopher'],\n",
       "   ['Mississippian'],\n",
       "   ['Missourian'],\n",
       "   ['Montanan'],\n",
       "   ['Nebraskan', 'Cornhusker'],\n",
       "   ['Nevadan'],\n",
       "   ['New_Englander', 'Yankee'],\n",
       "   ['New_Hampshirite', 'Granite_Stater'],\n",
       "   ['New_Jerseyan', 'New_Jerseyite', 'Garden_Stater'],\n",
       "   ['New_Mexican'],\n",
       "   ['New_Yorker'],\n",
       "   ['Nisei'],\n",
       "   ['North_Carolinian', 'Tarheel'],\n",
       "   ['North_Dakotan'],\n",
       "   ['Ohioan', 'Buckeye'],\n",
       "   ['Oklahoman', 'Sooner'],\n",
       "   ['Oregonian', 'Beaver'],\n",
       "   ['Pennsylvanian', 'Keystone_Stater'],\n",
       "   ['Puerto_Rican'],\n",
       "   ['Rhode_Islander'],\n",
       "   ['South_Carolinian'],\n",
       "   ['South_Dakotan'],\n",
       "   ['Southerner'],\n",
       "   ['Spanish_American', 'Hispanic_American', 'Hispanic'],\n",
       "   ['Tennessean', 'Volunteer'],\n",
       "   ['Texan'],\n",
       "   ['Tory'],\n",
       "   ['Utahan'],\n",
       "   ['Vermonter'],\n",
       "   ['Virginian'],\n",
       "   ['Washingtonian'],\n",
       "   ['Washingtonian'],\n",
       "   ['West_Virginian'],\n",
       "   ['Wisconsinite', 'Badger'],\n",
       "   ['Wyomingite'],\n",
       "   ['Yankee', 'Yank', 'Northerner'],\n",
       "   ['Yankee', 'Yank', 'Yankee-Doodle']]),\n",
       " ('American',\n",
       "  [['African_American_Vernacular_English',\n",
       "    'AAVE',\n",
       "    'African_American_English',\n",
       "    'Black_English',\n",
       "    'Black_English_Vernacular',\n",
       "    'Black_Vernacular',\n",
       "    'Black_Vernacular_English',\n",
       "    'Ebonics']]),\n",
       " ('American',\n",
       "  [['Creole'],\n",
       "   ['Latin_American', 'Latino'],\n",
       "   ['Mesoamerican'],\n",
       "   ['North_American'],\n",
       "   ['South_American'],\n",
       "   ['West_Indian']]),\n",
       " ('American', []),\n",
       " ('American', []),\n",
       " ('National', [['citizen'], ['compatriot'], ['patriot', 'nationalist']]),\n",
       " ('National', []),\n",
       " ('National', []),\n",
       " ('National', []),\n",
       " ('National', []),\n",
       " ('National', []),\n",
       " ('National', []),\n",
       " ('National', [])]"
      ]
     },
     "execution_count": 9,
     "metadata": {},
     "output_type": "execute_result"
    }
   ],
   "source": [
    "#Part 4: List all hyponyms for those 10 words\n",
    "\n",
    "hyponyms = [(i, [hyponyms.lemma_names() for hyponyms in synset.hyponyms()]) for i in most_common for synset in wn.synsets(i)]\n",
    "hyponyms"
   ]
  },
  {
   "cell_type": "markdown",
   "metadata": {},
   "source": [
    "<b>Problem 3.</b> \n",
    "\n",
    "Consider 100 points along the straight line in the (x,y) plane represented by the linear equation y=0.3x+0.2. Distribute those points along the line uniformly in the interval between -2.0 and 3.0. To the y coordinate of each point add a random normally distributed value with standard deviation of 1 and mean 0. You have created and artificial set of random measurements. \n",
    "\n",
    "1. Create a shallow neural network with one layer which will be able to predict y value corresponding to any x value in the above interval. Implement and train the network using Keras API. \n",
    "\n",
    "2. Report on the accuracy of your model. \n",
    "\n",
    "This is a rather trivial problem and you do not need neural networks to solve it. We are practicing Keras API."
   ]
  },
  {
   "cell_type": "code",
   "execution_count": 28,
   "metadata": {},
   "outputs": [
    {
     "name": "stderr",
     "output_type": "stream",
     "text": [
      "Using TensorFlow backend.\n"
     ]
    },
    {
     "data": {
      "image/png": "[encoded data removed]",
      "text/plain": [
       "<Figure size 1080x360 with 1 Axes>"
      ]
     },
     "metadata": {
      "needs_background": "light"
     },
     "output_type": "display_data"
    }
   ],
   "source": [
    "import keras\n",
    "import matplotlib.pyplot as plt\n",
    "import numpy as np\n",
    "\n",
    "from matplotlib.pyplot import figure\n",
    "from sklearn.model_selection import train_test_split\n",
    "from keras.models import Sequential\n",
    "from keras import layers\n",
    "from keras.optimizers import RMSprop,Adam\n",
    "from keras.layers import Dense, Activation, Dropout, Flatten\n",
    "from keras.utils import to_categorical\n",
    "\n",
    "#Plot 100 points between -2 and 3\n",
    "figure(figsize=(15, 5))\n",
    "formula = '0.3*x + 0.2'\n",
    "x = np.arange(-2.00, 3.00, 0.05) \n",
    "\n",
    "#Add Random Normal Distribution\n",
    "mu, sigma = 0, 1 # mean and standard deviation\n",
    "y = eval(formula) + np.random.normal(mu, sigma,100)\n",
    "\n",
    "plt.scatter(x, y)\n",
    "plt.show()"
   ]
  },
  {
   "cell_type": "code",
   "execution_count": 29,
   "metadata": {},
   "outputs": [],
   "source": [
    "keras.backend.clear_session()"
   ]
  },
  {
   "cell_type": "code",
   "execution_count": 30,
   "metadata": {},
   "outputs": [
    {
     "name": "stdout",
     "output_type": "stream",
     "text": [
      "WARNING:tensorflow:From /Users/jlee/anaconda3/lib/python3.7/site-packages/tensorflow/python/framework/op_def_library.py:263: colocate_with (from tensorflow.python.framework.ops) is deprecated and will be removed in a future version.\n",
      "Instructions for updating:\n",
      "Colocations handled automatically by placer.\n",
      "_________________________________________________________________\n",
      "Layer (type)                 Output Shape              Param #   \n",
      "=================================================================\n",
      "dense_1 (Dense)              (None, 50)                100       \n",
      "_________________________________________________________________\n",
      "activation_1 (Activation)    (None, 50)                0         \n",
      "_________________________________________________________________\n",
      "dense_2 (Dense)              (None, 1)                 51        \n",
      "=================================================================\n",
      "Total params: 151\n",
      "Trainable params: 151\n",
      "Non-trainable params: 0\n",
      "_________________________________________________________________\n"
     ]
    }
   ],
   "source": [
    "#Divide Training and Test Samples\n",
    "train_x, val_x, train_y, val_y = train_test_split(x, y, test_size=0.2, random_state=42,shuffle=True) #20/80 Split\n",
    "\n",
    "#Build a One Layer Model\n",
    "model_3 = Sequential()\n",
    "model_3.add(Dense(50, input_shape=(1,))) #First Layer (50 Neurons)\n",
    "model_3.add(Activation('linear'))\n",
    "model_3.add(Dense(1)) #Output Layer\n",
    "\n",
    "#Show Model Architecture         \n",
    "model_3.summary()"
   ]
  },
  {
   "cell_type": "code",
   "execution_count": 11,
   "metadata": {},
   "outputs": [
    {
     "name": "stdout",
     "output_type": "stream",
     "text": [
      "Train on 80 samples, validate on 20 samples\n",
      "Epoch 1/10\n",
      "80/80 [==============================] - 1s 10ms/step - loss: 1.2493 - mean_absolute_error: 0.8287 - val_loss: 0.7935 - val_mean_absolute_error: 0.6559\n",
      "Epoch 2/10\n",
      "80/80 [==============================] - 0s 649us/step - loss: 0.9805 - mean_absolute_error: 0.7620 - val_loss: 0.7302 - val_mean_absolute_error: 0.6429\n",
      "Epoch 3/10\n",
      "80/80 [==============================] - 0s 601us/step - loss: 1.0018 - mean_absolute_error: 0.7540 - val_loss: 0.7266 - val_mean_absolute_error: 0.6260\n",
      "Epoch 4/10\n",
      "80/80 [==============================] - 0s 596us/step - loss: 1.0228 - mean_absolute_error: 0.7701 - val_loss: 0.7177 - val_mean_absolute_error: 0.6230\n",
      "Epoch 5/10\n",
      "80/80 [==============================] - 0s 539us/step - loss: 1.0053 - mean_absolute_error: 0.7432 - val_loss: 0.7241 - val_mean_absolute_error: 0.6473\n",
      "Epoch 6/10\n",
      "80/80 [==============================] - 0s 617us/step - loss: 1.0203 - mean_absolute_error: 0.7564 - val_loss: 0.7150 - val_mean_absolute_error: 0.6261\n",
      "Epoch 7/10\n",
      "80/80 [==============================] - 0s 655us/step - loss: 1.0010 - mean_absolute_error: 0.7413 - val_loss: 0.7377 - val_mean_absolute_error: 0.6243\n",
      "Epoch 8/10\n",
      "80/80 [==============================] - 0s 653us/step - loss: 0.9897 - mean_absolute_error: 0.7474 - val_loss: 0.7667 - val_mean_absolute_error: 0.6336\n",
      "Epoch 9/10\n",
      "80/80 [==============================] - 0s 551us/step - loss: 0.9938 - mean_absolute_error: 0.7422 - val_loss: 0.7222 - val_mean_absolute_error: 0.6434\n",
      "Epoch 10/10\n",
      "80/80 [==============================] - 0s 506us/step - loss: 1.0050 - mean_absolute_error: 0.7433 - val_loss: 0.7209 - val_mean_absolute_error: 0.6198\n",
      "20/20 [==============================] - 0s 39us/step\n",
      "[0.7208759784698486, 0.619770884513855]\n"
     ]
    }
   ],
   "source": [
    "#Train the Model\n",
    "model_3.compile(optimizer='sgd', \n",
    "                loss='mean_squared_error', \n",
    "                metrics=['mae'])\n",
    "history_3 = model_3.fit(train_x,\n",
    "                        train_y,\n",
    "                        batch_size=5,\n",
    "                        epochs=10,\n",
    "                        shuffle=True,\n",
    "                        verbose=1,\n",
    "                        validation_data = (val_x, val_y)\n",
    "                       )\n",
    "results = model_3.evaluate(val_x, val_y)\n",
    "print(results)"
   ]
  },
  {
   "cell_type": "code",
   "execution_count": 31,
   "metadata": {},
   "outputs": [
    {
     "data": {
      "image/png": "[encoded data removed]",
      "text/plain": [
       "<Figure size 1080x360 with 1 Axes>"
      ]
     },
     "metadata": {
      "needs_background": "light"
     },
     "output_type": "display_data"
    },
    {
     "name": "stdout",
     "output_type": "stream",
     "text": [
      "_________________________________________________________________\n",
      "Layer (type)                 Output Shape              Param #   \n",
      "=================================================================\n",
      "dense_3 (Dense)              (None, 50)                100       \n",
      "_________________________________________________________________\n",
      "activation_2 (Activation)    (None, 50)                0         \n",
      "_________________________________________________________________\n",
      "dense_4 (Dense)              (None, 1)                 51        \n",
      "=================================================================\n",
      "Total params: 151\n",
      "Trainable params: 151\n",
      "Non-trainable params: 0\n",
      "_________________________________________________________________\n",
      "WARNING:tensorflow:From /Users/jlee/anaconda3/lib/python3.7/site-packages/tensorflow/python/ops/math_ops.py:3066: to_int32 (from tensorflow.python.ops.math_ops) is deprecated and will be removed in a future version.\n",
      "Instructions for updating:\n",
      "Use tf.cast instead.\n",
      "Train on 800 samples, validate on 200 samples\n",
      "Epoch 1/10\n",
      "800/800 [==============================] - 1s 1ms/step - loss: 0.0269 - mean_absolute_error: 0.1041 - val_loss: 0.0116 - val_mean_absolute_error: 0.0835\n",
      "Epoch 2/10\n",
      "800/800 [==============================] - 0s 470us/step - loss: 0.0111 - mean_absolute_error: 0.0848 - val_loss: 0.0114 - val_mean_absolute_error: 0.0830\n",
      "Epoch 3/10\n",
      "800/800 [==============================] - 0s 562us/step - loss: 0.0111 - mean_absolute_error: 0.0847 - val_loss: 0.0115 - val_mean_absolute_error: 0.0833\n",
      "Epoch 4/10\n",
      "800/800 [==============================] - 0s 375us/step - loss: 0.0112 - mean_absolute_error: 0.0844 - val_loss: 0.0112 - val_mean_absolute_error: 0.0823\n",
      "Epoch 5/10\n",
      "800/800 [==============================] - 0s 450us/step - loss: 0.0111 - mean_absolute_error: 0.0846 - val_loss: 0.0118 - val_mean_absolute_error: 0.0845\n",
      "Epoch 6/10\n",
      "800/800 [==============================] - 0s 472us/step - loss: 0.0111 - mean_absolute_error: 0.0844 - val_loss: 0.0117 - val_mean_absolute_error: 0.0841\n",
      "Epoch 7/10\n",
      "800/800 [==============================] - 0s 409us/step - loss: 0.0112 - mean_absolute_error: 0.0847 - val_loss: 0.0113 - val_mean_absolute_error: 0.0827\n",
      "Epoch 8/10\n",
      "800/800 [==============================] - 0s 434us/step - loss: 0.0111 - mean_absolute_error: 0.0842 - val_loss: 0.0112 - val_mean_absolute_error: 0.0822\n",
      "Epoch 9/10\n",
      "800/800 [==============================] - 0s 379us/step - loss: 0.0112 - mean_absolute_error: 0.0851 - val_loss: 0.0115 - val_mean_absolute_error: 0.0833\n",
      "Epoch 10/10\n",
      "800/800 [==============================] - 0s 394us/step - loss: 0.0110 - mean_absolute_error: 0.0839 - val_loss: 0.0113 - val_mean_absolute_error: 0.0827\n",
      "200/200 [==============================] - 0s 125us/step\n",
      "[0.011339437812566758, 0.08266255497932434]\n"
     ]
    }
   ],
   "source": [
    "#Repeat with less noise and more values\n",
    "import numpy as np\n",
    "\n",
    "#Plot 1000 points between -2 and 3\n",
    "figure(figsize=(15, 5))\n",
    "formula = '0.3*x + 0.2'\n",
    "x = np.arange(-2.00, 3.00, 0.005) \n",
    "\n",
    "#Add Random Normal Distribution\n",
    "mu, sigma = 0, 0.1 # mean and standard deviation\n",
    "y = eval(formula) + np.random.normal(mu, sigma,1000)\n",
    "\n",
    "plt.scatter(x, y)\n",
    "plt.show()\n",
    "\n",
    "#Divide Training and Test Samples\n",
    "train_x, val_x, train_y, val_y = train_test_split(x, y, test_size=0.2, random_state=42,shuffle=True) #20/80 Split\n",
    "\n",
    "#Build a One Layer Model\n",
    "model_3 = Sequential()\n",
    "model_3.add(Dense(50, input_shape=(1,))) #First Layer (50 Neurons)\n",
    "model_3.add(Activation('linear'))\n",
    "model_3.add(Dense(1)) #Output Layer\n",
    "\n",
    "#Show Model Architecture         \n",
    "model_3.summary()\n",
    "\n",
    "#Train the Model\n",
    "model_3.compile(optimizer='sgd', \n",
    "                loss='mean_squared_error', \n",
    "                metrics=['mae'])\n",
    "history_3 = model_3.fit(train_x,\n",
    "                        train_y,\n",
    "                        batch_size=5,\n",
    "                        epochs=10,\n",
    "                        shuffle=True,\n",
    "                        verbose=1,\n",
    "                        validation_data = (val_x, val_y)\n",
    "                       )\n",
    "results = model_3.evaluate(val_x, val_y)\n",
    "print(results) #Less Error!"
   ]
  },
  {
   "cell_type": "markdown",
   "metadata": {},
   "source": [
    "<b>Problem 4.</b> Consider three points in (x,y) plane with coordinates (-2,0), (0,1.7) and (2.1,0). \n",
    "\n",
    "1. Around each of those three centers create a cloud of 100 randomly generated points. For the radial distance of any one of those points from its center use a random normal distribution.  For the angular coordinate of any one of “cloud” points use the uniform distribution. Once you have generated all three sets of cloud points plot them in the same diagram using three different colors. There should exist some overlap between the clouds. \n",
    "\n",
    "2. Create a two-layer neural network. Use Keras API. Fit a model that could predict whether a randomly generated point in the plane belongs to cloud 1, centered around (-2,0), cloud 2, centered around (0,1.7) or cloud 3, centered around (2.1,0). \n",
    "\n",
    "You can make that prediction in a much simpler way, however, we are practicing Keras API."
   ]
  },
  {
   "cell_type": "code",
   "execution_count": 123,
   "metadata": {},
   "outputs": [
    {
     "data": {
      "image/png": "[encoded data removed]",
      "text/plain": [
       "<Figure size 432x288 with 1 Axes>"
      ]
     },
     "metadata": {
      "needs_background": "light"
     },
     "output_type": "display_data"
    }
   ],
   "source": [
    "#Part 1: Create three sample clouds\n",
    "\n",
    "#Create points \n",
    "num_points=100\n",
    "\n",
    "#Create Coordinate Values\n",
    "point1 = [-2,0]\n",
    "point2 = [0,1.7]\n",
    "point3 = [2.1,0]\n",
    "\n",
    "#Covariance Matrix - using 0.5 to demonstrate overlap\n",
    "cov = [[0.5, 0], [0, 0.5]]\n",
    "\n",
    "#Cloud Samples\n",
    "X1=np.random.multivariate_normal(point1, cov, num_points)\n",
    "X2=np.random.multivariate_normal(point2, cov, num_points)\n",
    "X3=np.random.multivariate_normal(point3, cov, num_points)\n",
    "\n",
    "#visualize the clouds in 2-dimensional plot\n",
    "plt.scatter(X1[:,0],X1[:,1])\n",
    "plt.scatter(X2[:,0],X2[:,1])\n",
    "plt.scatter(X3[:,0],X3[:,1])\n",
    "\n",
    "#Plot the sample clouds\n",
    "plt.show()"
   ]
  },
  {
   "cell_type": "code",
   "execution_count": 131,
   "metadata": {},
   "outputs": [
    {
     "name": "stdout",
     "output_type": "stream",
     "text": [
      "_________________________________________________________________\n",
      "Layer (type)                 Output Shape              Param #   \n",
      "=================================================================\n",
      "dense_57 (Dense)             (None, 50)                150       \n",
      "_________________________________________________________________\n",
      "activation_51 (Activation)   (None, 50)                0         \n",
      "_________________________________________________________________\n",
      "dense_58 (Dense)             (None, 50)                2550      \n",
      "_________________________________________________________________\n",
      "activation_52 (Activation)   (None, 50)                0         \n",
      "_________________________________________________________________\n",
      "dense_59 (Dense)             (None, 3)                 153       \n",
      "_________________________________________________________________\n",
      "activation_53 (Activation)   (None, 3)                 0         \n",
      "=================================================================\n",
      "Total params: 2,853\n",
      "Trainable params: 2,853\n",
      "Non-trainable params: 0\n",
      "_________________________________________________________________\n"
     ]
    }
   ],
   "source": [
    "#Part 2: Predict Sample Input with Keras\n",
    "\n",
    "#Cloud Classes\n",
    "Y1=0*np.ones(num_points)\n",
    "Y2=1*np.ones(num_points)\n",
    "Y3=2*np.ones(num_points)\n",
    "\n",
    "#Divide Training and Test Samples\n",
    "X=np.concatenate([X1,X2,X3],axis=0)\n",
    "Y=np.concatenate([Y1,Y2,Y3],axis=0)\n",
    "train_x, val_x, train_y, val_y = train_test_split( X,Y, test_size=0.2, random_state=42,shuffle=True) #20/80 Split\n",
    "\n",
    "#Build a Two Layer Model\n",
    "model_4 = Sequential()\n",
    "model_4.add(Dense(50, input_shape=(2,))) #First Layer (50 Neurons)\n",
    "model_4.add(Activation('relu'))\n",
    "model_4.add(Dense(50)) #Second Layer (50 Neurons)\n",
    "model_4.add(Activation('relu'))\n",
    "model_4.add(Dense(3)) #Output Layer\n",
    "model_4.add(Activation('softmax'))\n",
    "\n",
    "#Show Model Architecture         \n",
    "model_4.summary()"
   ]
  },
  {
   "cell_type": "code",
   "execution_count": 132,
   "metadata": {},
   "outputs": [
    {
     "name": "stdout",
     "output_type": "stream",
     "text": [
      "Train on 240 samples, validate on 60 samples\n",
      "Epoch 1/5\n",
      "240/240 [==============================] - 2s 8ms/step - loss: 1.0577 - acc: 0.3958 - val_loss: 0.9418 - val_acc: 0.7667\n",
      "Epoch 2/5\n",
      "240/240 [==============================] - 0s 180us/step - loss: 0.8397 - acc: 0.9125 - val_loss: 0.7543 - val_acc: 0.9333\n",
      "Epoch 3/5\n",
      "240/240 [==============================] - 0s 200us/step - loss: 0.6630 - acc: 0.9458 - val_loss: 0.6056 - val_acc: 0.9333\n",
      "Epoch 4/5\n",
      "240/240 [==============================] - 0s 207us/step - loss: 0.5263 - acc: 0.9500 - val_loss: 0.4828 - val_acc: 0.9333\n",
      "Epoch 5/5\n",
      "240/240 [==============================] - 0s 200us/step - loss: 0.4168 - acc: 0.9625 - val_loss: 0.3856 - val_acc: 0.9667\n"
     ]
    }
   ],
   "source": [
    "#Train the Model\n",
    "\n",
    "model_4.compile(optimizer=Adam(), loss='sparse_categorical_crossentropy', metrics=['accuracy'])\n",
    "\n",
    "#train the model\n",
    "history_4 = model_4.fit(train_x,train_y,\n",
    "                    batch_size=32,\n",
    "                    epochs=5,\n",
    "                    shuffle=True,\n",
    "                    verbose=1,\n",
    "                    validation_data=(val_x, val_y))"
   ]
  },
  {
   "cell_type": "code",
   "execution_count": 133,
   "metadata": {},
   "outputs": [
    {
     "data": {
      "image/png": "[encoded data removed]",
      "text/plain": [
       "<Figure size 432x288 with 1 Axes>"
      ]
     },
     "metadata": {
      "needs_background": "light"
     },
     "output_type": "display_data"
    },
    {
     "name": "stdout",
     "output_type": "stream",
     "text": [
      "[[0.8236834  0.09222549 0.0840911 ]\n",
      " [0.13884008 0.7352062  0.12595363]\n",
      " [0.13274796 0.18044782 0.68680423]]\n",
      "Results [0 1 2]\n"
     ]
    }
   ],
   "source": [
    "#Plot the results for training and validation loss\n",
    "loss = history.history['loss']\n",
    "val_loss = history.history['val_loss']\n",
    "epochs = range(len(loss))\n",
    "\n",
    "plt.figure()\n",
    "\n",
    "#Losses\n",
    "plt.plot(epochs, loss, 'bo', label='Training Loss')\n",
    "plt.plot(epochs, val_loss, 'b', label='Validation Loss')\n",
    "plt.title('Training and validation loss')\n",
    "plt.legend()\n",
    "plt.show()\n",
    "\n",
    "#Clarified that this input is acceptable\n",
    "inputs=np.array([[-2,0],[0,1.7],[2.1,0]])\n",
    "y_pred=model_4.predict(inputs)\n",
    "print(y_pred)\n",
    "\n",
    "#Print Results in a Graph\n",
    "results=np.argmax(y_pred,axis=0)\n",
    "print('Results', results)"
   ]
  }
 ],
 "metadata": {
  "kernelspec": {
   "display_name": "Python 3",
   "language": "python",
   "name": "python3"
  },
  "language_info": {
   "codemirror_mode": {
    "name": "ipython",
    "version": 3
   },
   "file_extension": ".py",
   "mimetype": "text/x-python",
   "name": "python",
   "nbconvert_exporter": "python",
   "pygments_lexer": "ipython3",
   "version": "3.7.1"
  }
 },
 "nbformat": 4,
 "nbformat_minor": 2
}
