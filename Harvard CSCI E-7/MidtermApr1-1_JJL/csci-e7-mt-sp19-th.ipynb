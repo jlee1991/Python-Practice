{
 "cells": [
  {
   "cell_type": "markdown",
   "metadata": {},
   "source": [
    "<div style=\"text-align: right\">CSCI E-7 Introduction to Python Programming for Life Sciences, Midterm</div>\n",
    "<div style=\"text-align: right\">Dino Konstantopoulos, 1 April 2019</div>\n",
    "\n",
    "<div style=\"text-align: right\">100 points total</div>\n",
    "\n",
    "# CSCI E-7 Spring 19 Midterm\n",
    "\n",
    "~~You have up to two hours~~. You have a week. No this is not an April's fool joke, although there are *so* **many** pranks I thought about playing on you tonite, dear class... :-)\n",
    "\n",
    "Good luck."
   ]
  },
  {
   "cell_type": "code",
   "execution_count": 16,
   "metadata": {},
   "outputs": [],
   "source": [
    "%matplotlib inline\n",
    "import  matplotlib.pyplot as plt\n",
    "import numpy as np\n",
    "import pandas as pd"
   ]
  },
  {
   "cell_type": "markdown",
   "metadata": {},
   "source": [
    "<div style=\"text-align: right\">20 points</div>\n",
    "\n",
    "# 1. Divisible numbers\n",
    "\n",
    "**How many numbers are there (not *the* numbers, but *how many*) between zero and a thousand, when you take the square of each number and then add the number 1, can be divided exactly by seventeen (integer division with 0 remainder)?**\n",
    "\n",
    "</br >\n",
    "<center>\n",
    "<img src=\"divisible.png\" width=150 />\n",
    "</center>\n",
    "\n",
    "Here's a collection of numbers and their remainder by integer division with 17, using a python list comprehension:"
   ]
  },
  {
   "cell_type": "code",
   "execution_count": 3,
   "metadata": {},
   "outputs": [
    {
     "name": "stdout",
     "output_type": "stream",
     "text": [
      "[16, 0, 1, 16, 0, 1, 15]\n"
     ]
    }
   ],
   "source": [
    "numbers = [16, 17, 18, 33, 34, 35, 100]\n",
    "print([r % 17 for r in numbers])"
   ]
  },
  {
   "cell_type": "code",
   "execution_count": 70,
   "metadata": {},
   "outputs": [
    {
     "data": {
      "text/plain": [
       "118"
      ]
     },
     "execution_count": 70,
     "metadata": {},
     "output_type": "execute_result"
    }
   ],
   "source": [
    "comp_list = [x for x in range(1000) if (x ** 2 + 1) % 17 == 0] \n",
    "#This does not include 1000 - but that actually doesn't matter either way\n",
    "len(comp_list)"
   ]
  },
  {
   "cell_type": "markdown",
   "metadata": {},
   "source": [
    "<div style=\"text-align: right\">40 points</div>\n",
    "\n",
    "# 2. Biological Networks\n",
    "\n",
    "</br >\n",
    "<center>\n",
    "<img src=\"endothelial.png\" width=600 />\n",
    "</center>\n",
    "\n",
    "[Angiogenesis](https://en.wikipedia.org/wiki/Angiogenesis) is the physiological process through which new blood vessels form from pre-existing vessels. The first vessels in the developing embryo form through vasculogenesis, after which angiogenesis is responsible for most, if not all, blood vessel growth during development and in disease. Angiogenesis is a normal and vital process in growth and development, as well as in wound healing and in the formation of granulation tissue. However, it is also a fundamental step in the transition of tumors from a benign state to a malignant one, leading to the use of angiogenesis inhibitors in the treatment of cancer. The essential role of angiogenesis in tumor growth was first proposed in 1971 by [Judah Folkman](https://en.wikipedia.org/wiki/Judah_Folkman), who graduated from Harvard Medical School in 1957. After his graduation, he started his surgical residency right here, at Massachusetts General Hospital.\n",
    "\n",
    "The Angiogenesis network depicts the causal mechanisms that lead to the angiogenic processes of migration, proliferation and vascular permeability downstream of growth factor signaling, as well as key angiogenic processes.\n",
    "\n",
    "**You will help Harvard Medical School scientists identify the Angiogenesis nodes with the most connections to other nodes and order them from most connected to least connected. Download the Angiogenesis network from [causalbionet](http://www.causalbionet.com/) (search using the keyword angiogenesis).**\n",
    "\n",
    "Causalbionet provides biologocal networks in (JSON graph format](http://jsongraphformat.info/), a popular format for scientific graph data, which we will need to convert to GML format so that we can apply the same methods we applied to our food network class material.\n",
    "\n",
    "Recall that Google's PageRank algorithm unleashes a silver surfer on a graph whose nodes represent the states of the silver surfer state machine surfing the graph, and finds the steady state regime of the Markovian silver surfer chain (a silver surfer surinf the graph randomly from one node to another) by solving a linear system of equations involving the graph's transfer matrix using a sparse matrix representation, or approximately using the power method which leverages the theory of the dominant eigenvector.\n",
    "\n",
    "PageRank makes the assumption that each and every location on the graph can be reached from any other location, but that is often not the case when the out degree of a location is 0. So we allow for the possibility for any graph location to have a small probability to transit to another location (shrimp eating sharks, remember?). This is represented by Google's damping factor in what I've called the silver surfer equation.\n",
    "\n",
    "**You will use the `json` package to read in the jgf files from `http://www.causalbionet.com/`, use the `networkx` package to represent the biological angiogenesis network, compute out-degrees the way we did it in class with food networks, and then solve directly (if you can) *and* use an iterative method, to order angiogenesis nodes from busiest to least busiest.**\n",
    "\n",
    "**For extra credit, plot the angiogenesis causal network using `networkx`' `draw()` function, Finally, where you only label the 5 busiest nodes and the 5 least busiest nodes. Don't waste too much time on this, as it will invove some web search. Probably better to finish section 3 before you do this.**\n",
    "\n",
    "Below, you will find a few hints about how to convert from pure json format to GML format."
   ]
  },
  {
   "cell_type": "code",
   "execution_count": 5,
   "metadata": {},
   "outputs": [],
   "source": [
    "import json\n",
    "from pprint import pprint\n",
    "\n",
    "#Using Angiogenesis jgf from Midterm 1 - the website causalbionet not working to download the files on my computer\n",
    "with open('data/Angiogenesis-2.0-Hs.jgf') as json_data:\n",
    "    angio = json.load(json_data)\n",
    "    \n",
    "metadata = angio['graph']['metadata']\n",
    "nodes = angio['graph']['nodes']\n",
    "edges = angio['graph']['edges']\n",
    "node_ids = [x['id'] for x in nodes]\n",
    "node_bel_function_type = [x['metadata']['bel_function_type'] for x in nodes]\n",
    "edges_source = [x['source'] for x in edges]\n",
    "edges_targets = [x['target'] for x in edges]\n",
    "\n",
    "gml = ('''graph [\n",
    "  directed 0''' + '\\n' +\n",
    "  'multigraph 1\\n')\n",
    "\n",
    "#Convert the nodes\n",
    "for n,b in zip(node_ids, node_bel_function_type):\n",
    "    gml += ('  node [' + '\\n' +\n",
    "    '    id \"' + n.replace('\"', '*') + '\"' + '\\n' +\n",
    "    '    label \"' + n.replace('\"', '*') + '\"' + '\\n' +\n",
    "    '  ]\\n')\n",
    "\n",
    "#Convert the edges\n",
    "for s,t in zip(edges_source, edges_targets):\n",
    "    gml += ('  edge [' + '\\n' +\n",
    "    '    source \"' + s.replace('\"', '*') + '\"' + '\\n' +\n",
    "    '    target \"' + t.replace('\"', '*') + '\"' + '\\n' +\n",
    "    '  ]\\n')\n",
    "\n",
    "gml += ']'"
   ]
  },
  {
   "cell_type": "markdown",
   "metadata": {},
   "source": [
    "Can you build a string that looks like the standard for a GML graph like the one we used in class?"
   ]
  },
  {
   "cell_type": "code",
   "execution_count": 6,
   "metadata": {},
   "outputs": [],
   "source": [
    "text_file = open(\"data/Angiogenesis-2.0-Hs.gml\", \"w\") #w here means \"write\"\n",
    "text_file.write(gml)\n",
    "text_file.close()"
   ]
  },
  {
   "cell_type": "code",
   "execution_count": 7,
   "metadata": {},
   "outputs": [],
   "source": [
    "import networkx as nx\n",
    "angiogenesis = nx.read_gml('data/Angiogenesis-2.0-Hs.gml')"
   ]
  },
  {
   "cell_type": "code",
   "execution_count": 8,
   "metadata": {},
   "outputs": [],
   "source": [
    "import numpy as np\n",
    "from scipy import sparse\n",
    "import scipy.sparse.linalg\n",
    "Genes = np.array(list(angiogenesis.nodes()))\n",
    "Adj = nx.to_scipy_sparse_matrix(angiogenesis, dtype=np.float64)"
   ]
  },
  {
   "cell_type": "code",
   "execution_count": 9,
   "metadata": {},
   "outputs": [],
   "source": [
    "np.seterr(divide='ignore')  # ignore division-by-zero errors\n",
    "\n",
    "degrees = np.ravel(Adj.sum(axis=1))\n",
    "Deginv = sparse.diags(1 / degrees).tocsr()\n",
    "Trans = (Deginv @ Adj).T\n",
    "n = len(Genes)"
   ]
  },
  {
   "cell_type": "code",
   "execution_count": 10,
   "metadata": {},
   "outputs": [
    {
     "data": {
      "text/plain": [
       "array([ 1.,  4.,  6.,  1.,  3.,  1.,  5.,  3.,  1.,  3.,  2.,  2.,  1.,\n",
       "        4.,  2.,  1.,  1.,  1.,  1.,  1.,  1.,  2.,  1.,  1.,  1., 19.,\n",
       "        3.,  1.,  1.,  1.,  1.,  1.,  1.,  2.,  1.,  1.,  2.,  2.,  3.,\n",
       "        1.,  1.,  1.,  2.,  1.,  2.,  1.,  1.,  2.,  1.,  1.,  1.,  1.,\n",
       "        6.,  3.,  6.,  3.,  1.,  9.,  4.,  6.,  2.,  3.,  1.,  4., 12.,\n",
       "        2.,  4.,  2., 17.,  2.,  1.,  1.,  2.,  3.,  1.,  3.,  1.,  1.,\n",
       "        5.,  4.,  7.,  3.,  4.,  1.,  3.,  1.,  5.,  1.,  2.,  1.,  3.,\n",
       "        1.,  4.,  6.,  1.,  2.,  1.,  2.,  2.,  1.,  1.,  1., 22.,  6.,\n",
       "        1.,  1.,  7.,  3.,  3.,  2.,  1.,  4.,  1.,  1.,  2.,  3.,  2.,\n",
       "        1.,  1.,  2.,  2.,  5.,  1., 13.,  5.,  2.,  2.,  2.,  6.,  1.,\n",
       "        1.,  3.,  1.,  1.,  1.,  3.,  2.,  2.,  1.,  1.,  3.,  1.,  1.,\n",
       "        1.,  2.,  3.,  2.,  1.,  5.,  2.,  1.,  1.,  1.,  2., 15.,  2.,\n",
       "        5.,  1.,  1.,  1.,  1.,  1.,  1.,  1.,  1.,  3.,  1.,  1.,  4.,\n",
       "        1.,  5.,  5.,  1.,  3.,  4.,  1.,  1.,  1.,  3.,  2.,  1., 11.,\n",
       "        3.,  1.,  3.,  6.,  2.,  2.,  1.,  1.,  2.,  1.,  1.,  2.,  6.,\n",
       "        2.,  4.,  1.,  3.,  4., 10.,  9.,  3.,  1.,  1.,  2.,  7., 11.,\n",
       "        2.,  2.,  3.,  4.,  1.,  4.,  4.,  2.,  4.,  1.,  1.,  2.,  2.,\n",
       "        2.,  3.,  7.,  1.,  6.,  1., 11.,  4.,  5.,  2.,  2.,  5.,  1.,\n",
       "        2.,  2.,  2.,  1.,  5.,  1.,  1.])"
      ]
     },
     "execution_count": 10,
     "metadata": {},
     "output_type": "execute_result"
    }
   ],
   "source": [
    "degrees #Out degrees per individual node"
   ]
  },
  {
   "cell_type": "code",
   "execution_count": 11,
   "metadata": {},
   "outputs": [],
   "source": [
    "from scipy.sparse.linalg import spsolve\n",
    "\n",
    "damping = 0.85\n",
    "beta = 1 - damping\n",
    "\n",
    "I = sparse.eye(n, format='csc')  # Same sparse format as Trans\n",
    "\n",
    "pagerank = spsolve(I - damping * Trans,\n",
    "                   np.full(n, beta / n))"
   ]
  },
  {
   "cell_type": "code",
   "execution_count": 12,
   "metadata": {},
   "outputs": [],
   "source": [
    "#Use bubble sort from our lectures, but modify it to work with a list of tuples so that we\n",
    "#can identify which gene the page rank stands for (and order greatest to least)\n",
    "def bubble_sort(alist):\n",
    "    for passnum in range(len(alist)-1, -1, -1):\n",
    "        swapped = False\n",
    "        for i in range(passnum):\n",
    "            if alist[i][1] < alist[i+1][1]:\n",
    "                alist[i], alist[i+1] = alist[i+1], alist[i]\n",
    "                swapped = True\n",
    "        if not swapped:\n",
    "            break"
   ]
  },
  {
   "cell_type": "code",
   "execution_count": 13,
   "metadata": {
    "scrolled": false
   },
   "outputs": [
    {
     "data": {
      "text/plain": [
       "[('bp(GOBP:*patterning of blood vessels*)', 0.031100910437989706),\n",
       " ('tscript(p(HGNC:HIF1A))', 0.024558268633439167),\n",
       " ('p(HGNC:VEGFA)', 0.018191901533065685),\n",
       " ('p(SFAM:*FGF Family*)', 0.017443842567180765),\n",
       " ('tscript(p(SFAM:*NOTCH Family*))', 0.016034587888138673),\n",
       " ('bp(GOBP:*cell migration*)', 0.015202769614883496),\n",
       " ('bp(GOBP:angiogenesis)', 0.014388247596155947),\n",
       " ('kin(p(HGNC:MAPK1))', 0.013214797992489247),\n",
       " ('kin(p(HGNC:MAPK3))', 0.01218329496789073),\n",
       " ('complex(p(HGNC:VHL),p(HGNC:TCEB1),p(HGNC:TCEB2),p(HGNC:CUL2),p(HGNC:RBX1))',\n",
       "  0.01196643708879108),\n",
       " ('kin(p(HGNC:KDR))', 0.01191255125912854),\n",
       " ('kin(p(SFAM:*AKT Family*))', 0.011650612890644556),\n",
       " ('bp(GOBP:*blood vessel development*)', 0.01103508511763982),\n",
       " ('p(HGNC:HIF1A)', 0.009800587545232074),\n",
       " ('bp(GOBP:*cell proliferation*)', 0.009324181173526016),\n",
       " ('p(SFAM:*FGFR Family*)', 0.00882443869211631),\n",
       " ('deg(p(HGNC:HIF1A))', 0.008788293549860786),\n",
       " ('kin(p(HGNC:FLT1))', 0.00835507934232961),\n",
       " ('kin(p(HGNC:ACVRL1))', 0.008233283343959367),\n",
       " ('p(HGNC:DLL4)', 0.007934921654881768),\n",
       " ('kin(p(HGNC:TEK))', 0.0075635700730283285),\n",
       " ('p(HGNC:COL18A1)', 0.007273119145879763),\n",
       " ('kin(p(SFAM:*PRKC Family*))', 0.007270142965946496),\n",
       " ('kin(p(HGNC:SRC))', 0.007056543850132016),\n",
       " ('kin(p(HGNC:TGFBR1))', 0.007046029333291385),\n",
       " ('kin(p(SFAM:*MAPK p38 Family*))', 0.006763210799701464),\n",
       " ('kin(p(SFAM:*FGFR Family*))', 0.0067348112097223795),\n",
       " ('complex(p(HGNC:ITGA2),p(HGNC:ITGB1))', 0.006718923646153605),\n",
       " ('kin(p(HGNC:IGF1R))', 0.006661202372604671),\n",
       " ('tscript(p(HGNC:EPAS1))', 0.006534900697570427),\n",
       " ('kin(p(SFAM:*PIK3C Class IA Family*))', 0.006505193781552313),\n",
       " ('tscript(p(HGNC:FOXO1))', 0.006477933948063449),\n",
       " ('bp(GOBP:*regulation of vascular permeability*)', 0.006322932380035455),\n",
       " ('cat(p(HGNC:PLCG1))', 0.00626775824721464),\n",
       " ('p(HGNC:NOS3)', 0.006166239716124294),\n",
       " ('kin(p(SFAM:*PDGFR Family*))', 0.006094606041591299),\n",
       " ('kin(p(HGNC:TGFBR2))', 0.006021781410512573),\n",
       " ('cat(p(HGNC:SIRT1))', 0.005984961323755185),\n",
       " ('tscript(p(HGNC:NOTCH4))', 0.005892690247696614),\n",
       " ('cat(p(HGNC:MMP14))', 0.005827278225219734),\n",
       " ('cat(p(MGI:Robo4))', 0.005827278225219734),\n",
       " ('p(SFAM:*TGFB Family*)', 0.005710854935778377),\n",
       " ('p(SFAM:*PDGF Family*)', 0.005652740847722151),\n",
       " ('cat(p(MGI:Plxnd1))', 0.005632541984801131),\n",
       " ('p(HGNC:ANGPT2)', 0.005601094143320363),\n",
       " ('complex(p(HGNC:ETV6),p(HGNC:CTBP1))', 0.005560367865753089),\n",
       " ('cat(p(HGNC:CXCR4))', 0.005560367865753089),\n",
       " ('path(MESHD:*Pulmonary Disease, Chronic Obstructive*)',\n",
       "  0.005556736573428955),\n",
       " ('tscript(p(HGNC:FOXO3))', 0.005476965291041598),\n",
       " ('kin(p(HGNC:ROCK2))', 0.0054660914489992945),\n",
       " ('p(HGNC:HEY2)', 0.0054285492216189085),\n",
       " ('p(HGNC:SMAD4)', 0.00531422020266364),\n",
       " ('cat(p(HGNC:NOS3))', 0.005294301994497661),\n",
       " ('complex(p(HGNC:ITGA6),p(HGNC:ITGB1))', 0.005278613818955127),\n",
       " ('a(CHEBI:*angiotensin II*)', 0.005108754572972497),\n",
       " ('gtp(p(HGNC:RHOA))', 0.00500886188682864),\n",
       " ('kin(p(HGNC:TIE1))', 0.004970398051597827),\n",
       " ('tscript(p(HGNC:SMAD1))', 0.004954924763665392),\n",
       " ('tscript(p(HGNC:SMAD5))', 0.004954924763665392),\n",
       " ('kin(p(HGNC:EPHB4))', 0.0048975221526541685),\n",
       " ('cat(p(HGNC:BDKRB2))', 0.004877349998546669),\n",
       " ('tscript(p(HGNC:ARNT))', 0.004793121492809041),\n",
       " ('tscript(p(HGNC:SMAD2))', 0.004749653284577106),\n",
       " ('kin(p(HGNC:PDGFRB))', 0.004742516697504668),\n",
       " ('complex(p(HGNC:ECT2),p(HGNC:KLHL20))', 0.004731519634376707),\n",
       " ('p(HGNC:RBPJ)', 0.0047114764592511155),\n",
       " ('p(HGNC:ANGPT1)', 0.004647895124433679),\n",
       " ('kin(p(HGNC:ROCK1))', 0.004625334601834115),\n",
       " ('bp(MESHPP:Apoptosis)', 0.004617900720299644),\n",
       " ('p(HGNC:PXN)', 0.0044617171995467554),\n",
       " ('p(HGNC:PDGFB)', 0.004455282046723016),\n",
       " ('cat(complex(p(HGNC:ITGAV),p(HGNC:ITGB3)))', 0.004447268420061304),\n",
       " ('p(HGNC:PDGFRB)', 0.004386876679741709),\n",
       " ('cat(p(HGNC:BDKRB1))', 0.0043728007262779835),\n",
       " ('tscript(p(HGNC:RBPJ))', 0.004363088356354848),\n",
       " ('cat(p(MGI:Bcl6b))', 0.004329201405808301),\n",
       " ('tscript(p(HGNC:SMAD3))', 0.004314240505131325),\n",
       " ('kin(p(HGNC:RAF1))', 0.004227284841812096),\n",
       " ('p(HGNC:HEY1)', 0.0041923408539850365),\n",
       " ('p(HGNC:LGALS3)', 0.0041871469205040385),\n",
       " ('p(HGNC:FGFR4)', 0.004151243616152563),\n",
       " ('p(HGNC:FGFR3)', 0.004151243616152563),\n",
       " ('p(HGNC:FGFR1)', 0.004151243616152563),\n",
       " ('p(HGNC:FGFR2)', 0.004151243616152563),\n",
       " ('cat(p(HGNC:EGLN3))', 0.004141623773986709),\n",
       " ('cat(p(HGNC:EGLN1))', 0.004141623773986709),\n",
       " ('cat(p(HGNC:EGLN2))', 0.004141623773986709),\n",
       " ('p(SFAM:*PDGFR Family*)', 0.004106618599133489),\n",
       " ('kin(p(HGNC:MET))', 0.003989818093474436),\n",
       " ('cat(p(HGNC:SHC1))', 0.003989818093474436),\n",
       " ('kin(p(HGNC:MAP2K1))', 0.003989818093474436),\n",
       " ('kin(p(HGNC:PRKAA1))', 0.0039004726474917706),\n",
       " ('cat(p(HGNC:F2))', 0.0039004726474917706),\n",
       " ('p(HGNC:KNG1)', 0.0038627627805938487),\n",
       " ('deg(p(MGI:Rbpj))', 0.003797235566593827),\n",
       " ('p(HGNC:SESN2)', 0.0037485724849333235),\n",
       " ('tscript(p(HGNC:NR2F2))', 0.0037424479357626482),\n",
       " ('kin(p(HGNC:PDGFRA))', 0.0037050717999411497),\n",
       " ('cat(p(HGNC:UNC5B))', 0.003683880027024382),\n",
       " ('kin(p(HGNC:EGFR))', 0.003673721633578233),\n",
       " ('cat(p(HGNC:EIF4E))', 0.0036657904139895986),\n",
       " ('p(HGNC:KLF2)', 0.0036657904139895986),\n",
       " ('p(HGNC:ITGB1)', 0.003545785162515743),\n",
       " ('tscript(p(HGNC:PPARA))', 0.0035253040219990358),\n",
       " ('p(HGNC:FOXC2)', 0.003524636247083157),\n",
       " ('cat(p(HGNC:HIF1AN))', 0.0035226797156798135),\n",
       " ('tscript(p(HGNC:FOXC2))', 0.003469313725344392),\n",
       " ('p(HGNC:PDGFA)', 0.0034418092416341494),\n",
       " ('kin(p(HGNC:PTK2))', 0.003366738430330221),\n",
       " ('p(HGNC:SMAD3)', 0.0033583728996511245),\n",
       " ('complex(p(HGNC:PDGFA),p(HGNC:PDGFB))', 0.003347505479936851),\n",
       " ('p(HGNC:EP300)', 0.003347095161511604),\n",
       " ('p(HGNC:CREBBP)', 0.0033470951615116036),\n",
       " ('complex(p(HGNC:PDGFA),p(HGNC:PDGFA))', 0.0032863829968396204),\n",
       " ('p(HGNC:EFNB2)', 0.0032116640006936447),\n",
       " ('p(HGNC:FGF2)', 0.0032037926434473193),\n",
       " ('p(HGNC:ECT2)', 0.003164629953848365),\n",
       " ('p(HGNC:KLHL20)', 0.0031646299538483644),\n",
       " ('tscript(p(HGNC:EP300))', 0.0031435814688793857),\n",
       " ('tscript(p(HGNC:CREBBP))', 0.0031435814688793853),\n",
       " ('p(HGNC:OLR1)', 0.003112054850412374),\n",
       " ('complex(p(HGNC:PDGFB),p(HGNC:PDGFB))', 0.0030859439823832943),\n",
       " ('complex(p(HGNC:ITGAV),p(HGNC:ITGB3))', 0.0030688243188309967),\n",
       " ('cat(p(HGNC:AGTR1))', 0.003030640297186064),\n",
       " ('complex(p(HGNC:PDGFC),p(HGNC:PDGFC))', 0.003025911095241745),\n",
       " ('p(HGNC:NRP1)', 0.0030044664697923534),\n",
       " ('p(HGNC:IGF1)', 0.002944882387125124),\n",
       " ('p(HGNC:MMP2)', 0.0028950929115378957),\n",
       " ('p(HGNC:PDGFRA)', 0.0028357189187419637),\n",
       " ('p(HGNC:PDGFC)', 0.0028289341790509147),\n",
       " ('cat(p(HGNC:NRP1))', 0.0028198202132349234),\n",
       " ('p(HGNC:ENG)', 0.002786975934948006),\n",
       " ('cat(p(HGNC:MMP2))', 0.0027624162030610395),\n",
       " ('p(HGNC:TGFA)', 0.002761953821417453),\n",
       " ('p(HGNC:TGFBR1)', 0.0025301892045403794),\n",
       " ('p(HGNC:BDKRB1)', 0.0024808469476722923),\n",
       " ('p(HGNC:BCL6B)', 0.0024623172364726777),\n",
       " ('p(HGNC:KDR)', 0.002426086431287144),\n",
       " ('p(HGNC:PTN)', 0.0024246669523141544),\n",
       " ('p(HGNC:RAF1)', 0.00241900269677429),\n",
       " ('kin(p(HGNC:FGFR3))', 0.0023866851758689886),\n",
       " ('kin(p(HGNC:FGFR1))', 0.0023866851758689886),\n",
       " ('kin(p(HGNC:FGFR2))', 0.0023866851758689886),\n",
       " ('kin(p(HGNC:FGFR4))', 0.0023866851758689886),\n",
       " ('p(HGNC:EGLN3)', 0.0023825967429485007),\n",
       " ('p(HGNC:EGLN1)', 0.0023825967429485007),\n",
       " ('p(HGNC:EGLN2)', 0.0023825967429485007),\n",
       " ('p(HGNC:TCEB2)', 0.0023176518932495524),\n",
       " ('p(HGNC:TCEB1)', 0.0023176518932495524),\n",
       " ('p(HGNC:RBX1)', 0.0023176518932495524),\n",
       " ('p(HGNC:CUL2)', 0.0023176518932495524),\n",
       " ('p(HGNC:VHL)', 0.0023176518932495524),\n",
       " ('p(HGNC:PRKAA1)', 0.002280107514188152),\n",
       " ('p(HGNC:F2)', 0.002280107514188152),\n",
       " ('p(HGNC:MMP14)', 0.0022734688028164074),\n",
       " ('p(HGNC:SLIT2)', 0.0022734688028164074),\n",
       " ('p(HGNC:ROBO4)', 0.0022734688028164074),\n",
       " ('cat(p(HGNC:TIMP2))', 0.0022734688028164074),\n",
       " ('p(HGNC:TGFB1)', 0.0022404822041413564),\n",
       " ('p(HGNC:TGFB2)', 0.0022404822041413564),\n",
       " ('p(HGNC:PLXND1)', 0.002218293534697803),\n",
       " ('p(HGNC:SEMA3E)', 0.002218293534697803),\n",
       " ('r(HGNC:PDGFB)', 0.0022155499451008117),\n",
       " ('p(HGNC:NR2F2)', 0.002212947011703275),\n",
       " ('p(HGNC:CXCL12)', 0.0021978442009675248),\n",
       " ('p(HGNC:CXCR4)', 0.0021978442009675248),\n",
       " ('p(HGNC:ETV6)', 0.0021978442009675248),\n",
       " ('p(HGNC:CTBP1)', 0.0021978442009675248),\n",
       " ('p(HGNC:UNC5B)', 0.0021880556504895116),\n",
       " ('tscript(p(HGNC:KLF2))', 0.002180367564949729),\n",
       " ('p(HGNC:EIF4E)', 0.002180367564949729),\n",
       " ('p(HGNC:ROCK2)', 0.0021711325495539493),\n",
       " ('p(HGNC:PPARA)', 0.0021206608483537396),\n",
       " ('p(HGNC:HIF1AN)', 0.00211954551816807),\n",
       " ('p(HGNC:ITGA6)', 0.002118013887708102),\n",
       " ('p(HGNC:FGF16)', 0.002105133257214515),\n",
       " ('p(HGNC:FGF5)', 0.002105133257214515),\n",
       " ('p(HGNC:FGF9)', 0.002105133257214515),\n",
       " ('p(HGNC:FGF1)', 0.002105133257214515),\n",
       " ('p(HGNC:FGF8)', 0.002105133257214515),\n",
       " ('p(HGNC:FGF7)', 0.002105133257214515),\n",
       " ('p(HGNC:FGF18)', 0.002105133257214515),\n",
       " ('p(HGNC:FGF10)', 0.002105133257214515),\n",
       " ('p(HGNC:ITGA2)', 0.0020501779138117904),\n",
       " ('p(HGNC:SHH)', 0.0020415841736055973),\n",
       " ('p(HGNC:EPAS1)', 0.002011073037237865),\n",
       " ('p(HGNC:EPHB4)', 0.002010037915589497),\n",
       " ('p(HGNC:BDKRB2)', 0.0020043224719257058),\n",
       " ('p(HGNC:ARNT)', 0.0019804577286333777),\n",
       " ('p(HGNC:KRIT1)', 0.00197134332033405),\n",
       " ('p(HGNC:NIN)', 0.0019623812604318415),\n",
       " ('p(HGNC:ROCK1)', 0.0019329181095238152),\n",
       " ('p(HGNC:TGFBR2)', 0.0019020351887380712),\n",
       " ('p(HGNC:SIRT1)', 0.001894210920302126),\n",
       " ('r(HGNC:MIR34A)', 0.001894210920302126),\n",
       " ('p(HGNC:VTN)', 0.0018824660246881857),\n",
       " ('p(HGNC:NOTCH4)', 0.00187460331663968),\n",
       " ('p(SFAM:*NOTCH Family*)', 0.0018614429758148652),\n",
       " ('p(HGNC:JAG1)', 0.0018614429758148652),\n",
       " ('p(HGNC:EGFL7)', 0.0018614429758148652),\n",
       " ('p(HGNC:ITGB1BP1)', 0.001824032724108297),\n",
       " ('p(HGNC:S100A11)', 0.001824032724108297),\n",
       " ('p(HGNC:FZD4)', 0.001824032724108297),\n",
       " ('p(HGNC:RAP1B)', 0.001824032724108297),\n",
       " ('a(CHEBI:*sphingosine 1-phosphate*)', 0.001824032724108297),\n",
       " ('p(HGNC:NCF1)', 0.001824032724108297),\n",
       " ('p(HGNC:TNXB)', 0.0018060428791675108),\n",
       " ('p(HGNC:VEGFB)', 0.0018060428791675108),\n",
       " ('p(HGNC:FLT1)', 0.0018060428791675108),\n",
       " ('p(HGNC:GDF2)', 0.0017887884460650598),\n",
       " ('p(HGNC:ACVRL1)', 0.0017887884460650598),\n",
       " ('p(HGNC:IGF1R)', 0.0017548110423469434),\n",
       " ('p(HGNC:SHC1)', 0.0017528550988219062),\n",
       " ('p(HGNC:MAP2K1)', 0.0017528550988219062),\n",
       " ('p(HGNC:HGF)', 0.0017528550988219062),\n",
       " ('tscript(p(HGNC:SMAD4))', 0.001751678432070173),\n",
       " ('complex(SCOMP:*p85/p110 PI3Kinase Complex*)', 0.0017282895818680425),\n",
       " ('p(SFAM:*AKT Family*)', 0.0017227423008983576),\n",
       " ('p(HGNC:ANXA2)', 0.0017227423008983576),\n",
       " ('p(HGNC:CDH5)', 0.0017227423008983576),\n",
       " ('p(HGNC:SERPINE1)', 0.0017210660252369543),\n",
       " ('p(HGNC:EDN1)', 0.0017210660252369543),\n",
       " ('p(HGNC:PTGS2)', 0.0017210660252369543),\n",
       " ('p(HGNC:VEGFC)', 0.0017210660252369543),\n",
       " ('p(HGNC:MMP9)', 0.0017210660252369543),\n",
       " ('p(HGNC:PLCG1)', 0.0016879255410306385),\n",
       " ('p(HGNC:TIE1)', 0.0016786162249686875),\n",
       " ('p(HGNC:SMAD1)', 0.0016753281512830454),\n",
       " ('p(HGNC:SMAD5)', 0.0016753281512830454),\n",
       " ('p(SFAM:*PRKC Family*)', 0.001652343559179903),\n",
       " ('a(SCHEM:Diacylglycerol)', 0.001652343559179903),\n",
       " ('p(HGNC:SMAD2)', 0.0016317079619767843),\n",
       " ('p(HGNC:SRC)', 0.0016220836844395184),\n",
       " ('p(SFAM:*MAPK p38 Family*)', 0.001580528168961857),\n",
       " ('p(HGNC:TNC)', 0.0015670518564870719),\n",
       " ('p(HGNC:MAPK3)', 0.0015638430683411605),\n",
       " ('p(HGNC:MAPK1)', 0.0015584548301388044),\n",
       " ('p(HGNC:FOXO3)', 0.0015534907384812213),\n",
       " ('p(HGNC:TEK)', 0.0015408401478718748),\n",
       " ('p(HGNC:FOXO1)', 0.0015401139483131382),\n",
       " ('a(SCHEM:*kringle 5*)', 0.0015320017156574338)]"
      ]
     },
     "execution_count": 13,
     "metadata": {},
     "output_type": "execute_result"
    }
   ],
   "source": [
    "#To answer the original question, use the code written below to create and store the list of angiogenesis genes \n",
    "#into a list of tuples and apply the bubble sort. The output is (Angiogenesis Vessel, Pagerank) \n",
    "#where the first parts of the list have the highest page rank in sorted order\n",
    "my_list = []\n",
    "for s, p in zip(Genes, pagerank):\n",
    "    my_list.append((s,p))\n",
    "    bubble_sort(my_list)\n",
    "my_list"
   ]
  },
  {
   "cell_type": "code",
   "execution_count": 17,
   "metadata": {},
   "outputs": [],
   "source": [
    "#Visually, you can also plot the nodes to see the highest pageranks as well\n",
    "def pagerank_plot(in_degrees, pageranks, names, *,\n",
    "                  annotations=[], **figkwargs):\n",
    "    \"\"\"Plot node pagerank against in-degree, with hand-picked node names.\"\"\"\n",
    "\n",
    "    fig, ax = plt.subplots(**figkwargs)\n",
    "    ax.scatter(in_degrees, pageranks, c=[0.835, 0.369, 0], lw=0)\n",
    "    for name, indeg, pr in zip(names, in_degrees, pageranks):\n",
    "        if name in annotations:\n",
    "            text = ax.text(indeg + 0.1, pr, name)\n",
    "\n",
    "    ax.set_ylim(0, np.max(pageranks) * 1.1)\n",
    "    ax.set_xlim(-1, np.max(in_degrees) * 1.1)\n",
    "    ax.set_ylabel('PageRank')\n",
    "    ax.set_xlabel('In-degrees')"
   ]
  },
  {
   "cell_type": "code",
   "execution_count": 18,
   "metadata": {},
   "outputs": [
    {
     "name": "stderr",
     "output_type": "stream",
     "text": [
      "'c' argument looks like a single numeric RGB or RGBA sequence, which should be avoided as value-mapping will have precedence in case its length matches with 'x' & 'y'.  Please use a 2-D array with a single row if you really want to specify the same RGB or RGBA value for all points.\n"
     ]
    },
    {
     "data": {
      "image/png": "[encoded data removed]",
      "text/plain": [
       "<Figure size 432x288 with 1 Axes>"
      ]
     },
     "metadata": {
      "needs_background": "light"
     },
     "output_type": "display_data"
    }
   ],
   "source": [
    "interesting = ['bp(GOBP:*patterning of blood vessels*)', \n",
    "                  'tscript(p(HGNC:HIF1A))', \n",
    "                  'p(HGNC:VEGFA)',\n",
    "                  'p(SFAM:*FGF Family*)', \n",
    "                  'tscript(p(SFAM:*NOTCH Family*))']\n",
    "in_degrees = np.ravel(Adj.sum(axis=0))\n",
    "pagerank_plot(in_degrees, pagerank, Genes, annotations = interesting)"
   ]
  },
  {
   "cell_type": "code",
   "execution_count": 20,
   "metadata": {},
   "outputs": [
    {
     "data": {
      "text/plain": [
       "{'p(HGNC:MAPK1)': Text(-0.11364420974630714, 0.2267429328809866, 'p(HGNC:MAPK1)'),\n",
       " 'p(HGNC:FOXO3)': Text(0.06792664942423846, -0.24175611503601332, 'p(HGNC:FOXO3)'),\n",
       " 'p(HGNC:TEK)': Text(-0.06743972036977838, -0.2748934190401021, 'p(HGNC:TEK)'),\n",
       " 'p(HGNC:FOXO1)': Text(-0.001506167594098844, -0.2716942199165535, 'p(HGNC:FOXO1)'),\n",
       " 'a(SCHEM:*kringle 5*)': Text(-0.14082974110652055, -0.2669606294466777, 'a(SCHEM:*kringle 5*)')}"
      ]
     },
     "execution_count": 20,
     "metadata": {},
     "output_type": "execute_result"
    },
    {
     "data": {
      "image/png": "[encoded data removed]",
      "text/plain": [
       "<Figure size 432x288 with 1 Axes>"
      ]
     },
     "metadata": {},
     "output_type": "display_data"
    }
   ],
   "source": [
    "#Extra Credit: This is not the cleanest graph, but there are probably just too many nodes to see the labels without\n",
    "#any overlap\n",
    "\n",
    "#From our PageRank results above\n",
    "labels_busiest = {'bp(GOBP:*patterning of blood vessels*)':'bp(GOBP:*patterning of blood vessels*)', \n",
    "                  'tscript(p(HGNC:HIF1A))':'tscript(p(HGNC:HIF1A))', \n",
    "                  'p(HGNC:VEGFA)':'p(HGNC:VEGFA)',\n",
    "                  'p(SFAM:*FGF Family*)':'p(SFAM:*FGF Family*)', \n",
    "                  'tscript(p(SFAM:*NOTCH Family*))':'tscript(p(SFAM:*NOTCH Family*))'}\n",
    "\n",
    "labels_least = {'p(HGNC:MAPK1)':'p(HGNC:MAPK1)',\n",
    "                'p(HGNC:FOXO3)':'p(HGNC:FOXO3)',\n",
    "                'p(HGNC:TEK)':'p(HGNC:TEK)',\n",
    "                'p(HGNC:FOXO1)':'p(HGNC:FOXO1)',\n",
    "                'a(SCHEM:*kringle 5*)':'a(SCHEM:*kringle 5*)'}\n",
    "\n",
    "#Set the argument with_labels to False so you have unlabeled graph\n",
    "nx.draw(angiogenesis, \n",
    "        pos = nx.spring_layout(angiogenesis),\n",
    "        node_size=10, \n",
    "        with_labels=False)\n",
    "\n",
    "#Add labels to the nodes of the five busiest nodes (label them green)\n",
    "nx.draw_networkx_labels(\n",
    "    angiogenesis,\n",
    "    pos = nx.spring_layout(angiogenesis), \n",
    "    labels = labels_busiest,\n",
    "    font_size=8,\n",
    "    font_color='g')\n",
    "\n",
    "#Add labels to the nodes of the five least busiest nodes (label them blue)\n",
    "nx.draw_networkx_labels(\n",
    "    angiogenesis,\n",
    "    pos = nx.spring_layout(angiogenesis), \n",
    "    labels = labels_least,\n",
    "    font_size=8,\n",
    "    font_color='b')"
   ]
  },
  {
   "cell_type": "markdown",
   "metadata": {},
   "source": [
    "<div style=\"text-align: right\">40 points</div>\n",
    "\n",
    "# 3. Crazy Professor\n",
    "\n",
    "Crazy professor has done it again: Given us code that looks ***so*** complicated. It also involves `coroutines`, which are functions that feature a `yield` return, where when the function yields to the caller and if the caller calls it again, the function will resume ***not at the top of the function*** (like with `return`), but *where it left off* instead!\n",
    "\n",
    "</br >\n",
    "<center>\n",
    "<img src=\"crazy.jpg\" width=400 />\n",
    "</center>\n",
    "\n",
    "Let's look at an example:"
   ]
  },
  {
   "cell_type": "code",
   "execution_count": 1,
   "metadata": {},
   "outputs": [],
   "source": [
    "def fibonacci():\n",
    "    a = 1\n",
    "    yield a\n",
    "    b = 1\n",
    "    yield b\n",
    "    while (True):\n",
    "        yield a + b\n",
    "        a, b = b, a + b\n",
    "    return \"like that's ever going to happen..\""
   ]
  },
  {
   "cell_type": "markdown",
   "metadata": {},
   "source": [
    "Let's use it:"
   ]
  },
  {
   "cell_type": "code",
   "execution_count": 2,
   "metadata": {},
   "outputs": [
    {
     "name": "stdout",
     "output_type": "stream",
     "text": [
      "1\n",
      "1\n",
      "2\n",
      "3\n",
      "5\n",
      "8\n",
      "13\n",
      "21\n",
      "34\n",
      "55\n"
     ]
    }
   ],
   "source": [
    "myfibonacci = fibonacci()\n",
    "j = 0\n",
    "for i in myfibonacci:\n",
    "    print(i)\n",
    "    j += 1\n",
    "    if (j>=10): break"
   ]
  },
  {
   "cell_type": "markdown",
   "metadata": {},
   "source": [
    "Ok, that's the fibonacci numbers allright! `myfibonacci` above is called a **generator**, while `fibonacci` is the associated **co-routine**. When we repeatedly call on the generator, it's going to return after every `yield` and then when we call it again, it's going to resume where it left off instead of at the top of the function.\n",
    "\n",
    "But you know what, crazy professor is a ***pythonista*** and he *hates* the use of iterator variables like `j` above. So he's going to try to ***hide*** them behind some OOP, here below (exactly like the OOP in your homework on genetic algorithms). OOP is only for the benefit of the coder (you), so if you don't like it, ***don't use it*** (unfortunately, professor forgot to tell you this). But from now on he promises all complicated notebook cells will be marked **optional**.\n",
    "\n",
    "But in the case of the midterm, you're going to have to decipher some complex OOP code, ok?"
   ]
  },
  {
   "cell_type": "code",
   "execution_count": 252,
   "metadata": {},
   "outputs": [],
   "source": [
    "import datetime\n",
    "\n",
    "#Prints result of _get_next (the result of unfold) and the time difference\n",
    "def _log(candidate, startTime):\n",
    "    timeDiff = datetime.datetime.now() - startTime\n",
    "    print(candidate, timeDiff)\n",
    "\n",
    "#Unfold starts with a given a and b (1,1) and than uses fnMutate (pattern(a,b)) which adds the numbers returns that\n",
    "#a becomes b and b becomes fnMutate(a,b)\n",
    "def _unfold(pattern):\n",
    "    a = 1\n",
    "    yield a\n",
    "    b = 1\n",
    "    yield b\n",
    "    while (True):\n",
    "        yield pattern(a, b)\n",
    "        a, b = b, pattern(a,b)\n",
    "    return \"like that's ever going to happen..\"\n",
    "\n",
    "#Recieves a variable limit from MyTest(), should be 10\n",
    "def _get_next(lim):\n",
    "\n",
    "    #returns a + b given the input\n",
    "    def fnMutate(a, b):\n",
    "        return a + b\n",
    "    \n",
    "    #passes fnMutate to _unfold (so adds a+b)\n",
    "    #next_one is curr + 1 if it is less than lim (10)\n",
    "    curr = 0\n",
    "    for next_one in _unfold(fnMutate):\n",
    "        if (curr < lim):\n",
    "            curr += 1\n",
    "            yield next_one\n",
    "        else:\n",
    "            break\n",
    "        \n",
    "class MyTest():\n",
    "    \n",
    "    #Function that triggers an input of 10 into get_numbers\n",
    "    def test_10(self):\n",
    "        self.get_numbers(10) \n",
    "\n",
    "    #Pass a limit or 10 from test_10()\n",
    "    def get_numbers(self, limit):\n",
    "        \n",
    "        #Start Time is casted at the current time\n",
    "        startTime = datetime.datetime.now()\n",
    "        \n",
    "        #Finds _log and inputs what and startTime - this function exists within test_10()\n",
    "        #next_one is passed to what (from _get_next)\n",
    "        def fnDisplay(what):\n",
    "            _log(what, startTime)\n",
    "\n",
    "        #Loop through (in a for loop) from next_one to the limit, so _get_next(10)\n",
    "        #Pass next_one as a variable to fnDisplay\n",
    "        #next_one is referenced in _get_next\n",
    "        for next_one in _get_next(limit):\n",
    "            fnDisplay(next_one)"
   ]
  },
  {
   "cell_type": "code",
   "execution_count": 253,
   "metadata": {},
   "outputs": [
    {
     "name": "stdout",
     "output_type": "stream",
     "text": [
      "1 0:00:00.000011\n",
      "1 0:00:00.000235\n",
      "2 0:00:00.000304\n",
      "3 0:00:00.000370\n",
      "5 0:00:00.000436\n",
      "8 0:00:00.000548\n",
      "13 0:00:00.000619\n",
      "21 0:00:00.000686\n",
      "34 0:00:00.000752\n",
      "55 0:00:00.000819\n"
     ]
    }
   ],
   "source": [
    "t = MyTest()\n",
    "t.test_10()"
   ]
  },
  {
   "cell_type": "markdown",
   "metadata": {},
   "source": [
    "#### Can you implement the same OOP as crazy professor, but for [prime numbers](https://en.wikipedia.org/wiki/Prime_number) instead?**"
   ]
  },
  {
   "cell_type": "markdown",
   "metadata": {},
   "source": [
    "Using Sieve of Erastothenes provided (and removing some now uneeded functions) we can create a more succinct function to generate the first 100 prime numbers. I used a slightly different methodology that didn't rely on using the mutate function and so that and unfold were no longer necessary. See in line comments in the code below as well."
   ]
  },
  {
   "cell_type": "code",
   "execution_count": 3,
   "metadata": {},
   "outputs": [],
   "source": [
    "import datetime\n",
    "\n",
    "def _log(candidate, startTime):\n",
    "    timeDiff = datetime.datetime.now() - startTime\n",
    "    print(candidate, timeDiff)\n",
    "    \n",
    "#Recieves a variable limit from MyTest(), should be 542. We need the first 542 numbers to find the first 100 \n",
    "#prime numbers, so get_numbers must be changed to 542 (range goes up to 541)\n",
    "def _get_next_prime(lim):\n",
    "    \n",
    "    #Use the Sieve of Erastothenes provided in the hint and pass on the limit range set from test_100 to get_numbers\n",
    "    table = list(range(lim))\n",
    "    for next_one in range(2,lim):\n",
    "        if table[next_one]:\n",
    "            yield table[next_one]\n",
    "            for mult in range(next_one**2,lim,next_one):\n",
    "                table[mult] = False\n",
    "        \n",
    "class MyTestPrime():\n",
    "    def test_100(self):\n",
    "        self.get_numbers(542) \n",
    "        #change the values submitted to 542 to recieve the first 100 prime numbers (541 is the 100th prime number)\n",
    "        #Sieve of Erastothenes needs a range of values to sort through which we pass in as limit to function get_next\n",
    "\n",
    "    def get_numbers(self, limit):\n",
    "        startTime = datetime.datetime.now()\n",
    "\n",
    "        def fnDisplay(what):\n",
    "            _log(what, startTime)\n",
    "\n",
    "        # look! No ugly iterator variables here :-)\n",
    "        for next_one in _get_next_prime(limit):\n",
    "            fnDisplay(next_one)"
   ]
  },
  {
   "cell_type": "code",
   "execution_count": 4,
   "metadata": {
    "scrolled": false
   },
   "outputs": [
    {
     "name": "stdout",
     "output_type": "stream",
     "text": [
      "2 0:00:00.000022\n",
      "3 0:00:00.000308\n",
      "5 0:00:00.000408\n",
      "7 0:00:00.000485\n",
      "11 0:00:00.000557\n",
      "13 0:00:00.000634\n",
      "17 0:00:00.000698\n",
      "19 0:00:00.000760\n",
      "23 0:00:00.000821\n",
      "29 0:00:00.000881\n",
      "31 0:00:00.000941\n",
      "37 0:00:00.001001\n",
      "41 0:00:00.001061\n",
      "43 0:00:00.001121\n",
      "47 0:00:00.001180\n",
      "53 0:00:00.001241\n",
      "59 0:00:00.001300\n",
      "61 0:00:00.001509\n",
      "67 0:00:00.001571\n",
      "71 0:00:00.001631\n",
      "73 0:00:00.001691\n",
      "79 0:00:00.001751\n",
      "83 0:00:00.001810\n",
      "89 0:00:00.001869\n",
      "97 0:00:00.001931\n",
      "101 0:00:00.001990\n",
      "103 0:00:00.002050\n",
      "107 0:00:00.002109\n",
      "109 0:00:00.002168\n",
      "113 0:00:00.002229\n",
      "127 0:00:00.002289\n",
      "131 0:00:00.002348\n",
      "137 0:00:00.002407\n",
      "139 0:00:00.002466\n",
      "149 0:00:00.002747\n",
      "151 0:00:00.002807\n",
      "157 0:00:00.002848\n",
      "163 0:00:00.002890\n",
      "167 0:00:00.002998\n",
      "173 0:00:00.003108\n",
      "179 0:00:00.003171\n",
      "181 0:00:00.003231\n",
      "191 0:00:00.003292\n",
      "193 0:00:00.003352\n",
      "197 0:00:00.003412\n",
      "199 0:00:00.003473\n",
      "211 0:00:00.003535\n",
      "223 0:00:00.003595\n",
      "227 0:00:00.003655\n",
      "229 0:00:00.003715\n",
      "233 0:00:00.003776\n",
      "239 0:00:00.003837\n",
      "241 0:00:00.004022\n",
      "251 0:00:00.004084\n",
      "257 0:00:00.004144\n",
      "263 0:00:00.004206\n",
      "269 0:00:00.004266\n",
      "271 0:00:00.004350\n",
      "277 0:00:00.004462\n",
      "281 0:00:00.004538\n",
      "283 0:00:00.004613\n",
      "293 0:00:00.004690\n",
      "307 0:00:00.004760\n",
      "311 0:00:00.004814\n",
      "313 0:00:00.004859\n",
      "317 0:00:00.004903\n",
      "331 0:00:00.004959\n",
      "337 0:00:00.005004\n",
      "347 0:00:00.005048\n",
      "349 0:00:00.005096\n",
      "353 0:00:00.005141\n",
      "359 0:00:00.005185\n",
      "367 0:00:00.005317\n",
      "373 0:00:00.005389\n",
      "379 0:00:00.005453\n",
      "383 0:00:00.005529\n",
      "389 0:00:00.005610\n",
      "397 0:00:00.005675\n",
      "401 0:00:00.005729\n",
      "409 0:00:00.005785\n",
      "419 0:00:00.005845\n",
      "421 0:00:00.005898\n",
      "431 0:00:00.005955\n",
      "433 0:00:00.006009\n",
      "439 0:00:00.006067\n",
      "443 0:00:00.006122\n",
      "449 0:00:00.006176\n",
      "457 0:00:00.006237\n",
      "461 0:00:00.006290\n",
      "463 0:00:00.006344\n",
      "467 0:00:00.006399\n",
      "479 0:00:00.006458\n",
      "487 0:00:00.006532\n",
      "491 0:00:00.006599\n",
      "499 0:00:00.006706\n",
      "503 0:00:00.006781\n",
      "509 0:00:00.006834\n",
      "521 0:00:00.006891\n",
      "523 0:00:00.006952\n",
      "541 0:00:00.007009\n"
     ]
    }
   ],
   "source": [
    "p = MyTestPrime()\n",
    "p.test_100()"
   ]
  },
  {
   "cell_type": "markdown",
   "metadata": {},
   "source": [
    "#### Can you improve on professor's code so that you can specify the mutation function within the `MyTest` class instead?"
   ]
  },
  {
   "cell_type": "markdown",
   "metadata": {},
   "source": [
    "There are a few ways I can think of moving the mutation function inside of the MyTest class. Here are just a few ideas. Since these are very interlinked objects, one of the easiest (first example) is to move the get_next function into the get_numbers function of MyTest(), relabeled MyTestMutate(). \n",
    "\n",
    "In the second example, it is also possible to move fnMutate to be passed as a paramater from MyTest() through test_10 to get_numbers to the unfold function."
   ]
  },
  {
   "cell_type": "code",
   "execution_count": 319,
   "metadata": {},
   "outputs": [],
   "source": [
    "#Example 1: Move all of _get_next into MyTest!\n",
    "\n",
    "import datetime\n",
    "\n",
    "#Prints result of _get_next (the result of unfold) and the time difference\n",
    "def _log(candidate, startTime):\n",
    "    timeDiff = datetime.datetime.now() - startTime\n",
    "    print(candidate, timeDiff)\n",
    "\n",
    "#Unfold starts with a given a and b (1,1) and than uses fnMutate (pattern(a,b)) which adds the numbers returns that\n",
    "#a becomes b and b becomes fnMutate(a,b)\n",
    "def _unfold(pattern):\n",
    "    a = 1\n",
    "    yield a\n",
    "    b = 1\n",
    "    yield b\n",
    "    while (True):\n",
    "        yield pattern(a, b)\n",
    "        a, b = b, pattern(a,b)\n",
    "    return \"like that's ever going to happen..\"\n",
    "\n",
    "class MyTestMutate():\n",
    "    \n",
    "    #Function that triggers an input of 10 into get_numbers\n",
    "    def test_10(self):\n",
    "        self.get_numbers(10) \n",
    "\n",
    "    #Pass a limit or 10 from test_10()\n",
    "    def get_numbers(self, limit):\n",
    "        \n",
    "        #Start Time is casted at the current time\n",
    "        startTime = datetime.datetime.now()\n",
    "        \n",
    "        #Finds _log and inputs what and startTime - this function exists within test_10()\n",
    "        #next_one is passed to what (from _get_next)\n",
    "        def fnDisplay(what):\n",
    "            _log(what, startTime)\n",
    "\n",
    "        #Recieves a variable limit passed from get_numbers, should be 10\n",
    "        def _get_next(lim):\n",
    "\n",
    "            #returns a + b given the input\n",
    "            def fnMutate(a, b):\n",
    "                return a + b\n",
    "\n",
    "            #passes fnMutate to _unfold (so adds a+b)\n",
    "            #next_one is curr + 1 if it is less than lim (10)\n",
    "            curr = 0\n",
    "            for next_one in _unfold(fnMutate):\n",
    "                if (curr < lim):\n",
    "                    curr += 1\n",
    "                    yield next_one\n",
    "                else:\n",
    "                    break\n",
    "            \n",
    "        #Loop through (in a for loop) from next_one to the limit, so _get_next(10)\n",
    "        #Pass next_one as a variable to fnDisplay\n",
    "        #next_one is referenced in _get_next\n",
    "        for next_one in _get_next(limit):\n",
    "            fnDisplay(next_one)"
   ]
  },
  {
   "cell_type": "code",
   "execution_count": 320,
   "metadata": {},
   "outputs": [
    {
     "name": "stdout",
     "output_type": "stream",
     "text": [
      "1 0:00:00.000034\n",
      "1 0:00:00.000224\n",
      "2 0:00:00.000301\n",
      "3 0:00:00.000365\n",
      "5 0:00:00.000426\n",
      "8 0:00:00.000488\n",
      "13 0:00:00.000547\n",
      "21 0:00:00.000614\n",
      "34 0:00:00.000675\n",
      "55 0:00:00.000736\n"
     ]
    }
   ],
   "source": [
    "m = MyTestMutate()\n",
    "m.test_10()"
   ]
  },
  {
   "cell_type": "code",
   "execution_count": 80,
   "metadata": {},
   "outputs": [],
   "source": [
    "#Example 2: Move fnMutate to test_10 to be passed as a paramater!\n",
    "\n",
    "import datetime\n",
    "\n",
    "#Prints result of _get_next (the result of unfold) and the time difference\n",
    "def _log(candidate, startTime):\n",
    "    timeDiff = datetime.datetime.now() - startTime\n",
    "    print(candidate, timeDiff)\n",
    "\n",
    "#Unfold starts with a given a and b (1,1) and than uses fnMutate (pattern(a,b)) which adds the numbers returns that\n",
    "#a becomes b and b becomes fnMutate(a,b)\n",
    "def _unfold(pattern):\n",
    "    a = 1\n",
    "    yield a\n",
    "    b = 1\n",
    "    yield b\n",
    "    while (True):\n",
    "        yield pattern(a,b)\n",
    "        a, b = b, pattern(a,b)\n",
    "    return \"like that's ever going to happen..\"\n",
    "\n",
    "#Recieves a variable limit passed from get_numbers, should be 10\n",
    "def _get_next(lim,pattern):\n",
    "\n",
    "    #next_one is curr + 1 if it is less than lim (10)\n",
    "    curr = 0\n",
    "    for next_one in _unfold(pattern):\n",
    "        if (curr < lim):\n",
    "            curr += 1\n",
    "            yield next_one\n",
    "        else:\n",
    "            break\n",
    "\n",
    "class MyTestMutate():\n",
    "    \n",
    "    #Function that triggers an input of 10 into get_numbers\n",
    "    def test_10(self):\n",
    "    \n",
    "        #returns a + b given the input\n",
    "        def fnMutate(a, b):\n",
    "            return a + b\n",
    "        \n",
    "        self.get_numbers(10, fnMutate) \n",
    "    \n",
    "    #Pass a limit or 10 from test_10()\n",
    "    def get_numbers(self, limit, pattern):\n",
    "        \n",
    "        #Start Time is casted at the current time\n",
    "        startTime = datetime.datetime.now()\n",
    "        \n",
    "        #Finds _log and inputs what and startTime - this function exists within test_10()\n",
    "        #next_one is passed to what (from _get_next)\n",
    "        def fnDisplay(what):\n",
    "            _log(what, startTime)\n",
    "            \n",
    "        #Loop through (in a for loop) from next_one to the limit, so _get_next(10)\n",
    "        #Pass next_one as a variable to fnDisplay\n",
    "        #next_one is referenced in _get_next\n",
    "        for next_one in _get_next(limit, pattern):\n",
    "            fnDisplay(next_one)"
   ]
  },
  {
   "cell_type": "code",
   "execution_count": 81,
   "metadata": {},
   "outputs": [
    {
     "name": "stdout",
     "output_type": "stream",
     "text": [
      "1 0:00:00.000014\n",
      "1 0:00:00.000318\n",
      "2 0:00:00.000399\n",
      "3 0:00:00.000473\n",
      "5 0:00:00.000545\n",
      "8 0:00:00.000618\n",
      "13 0:00:00.000692\n",
      "21 0:00:00.000765\n",
      "34 0:00:00.000839\n",
      "55 0:00:00.000913\n"
     ]
    }
   ],
   "source": [
    "m = MyTestMutate()\n",
    "m.test_10()"
   ]
  },
  {
   "cell_type": "markdown",
   "metadata": {},
   "source": [
    "# Visual Studio Code for Debugging (Examples)"
   ]
  },
  {
   "cell_type": "markdown",
   "metadata": {},
   "source": [
    "</br >\n",
    "\n",
    "Visual Studio Code is a useful IDE with line by line troubleshooting, easy access to terminal and open source packages that make it ideal for a developer. I've definitely used it in industry before and it has been a fantastic tool!\n",
    "\n",
    "<b>STEP 1:</b> Run the python code in the Visual Studio Code IDE. Identify the specific line that the issue centers around\n",
    "<img src=\"vsc_images/VSC_1.png\" width=750 />\n",
    "    \n",
    "<b>STEP 2:</b> Go to that problem line and diagnose potentially if this is an error with this object or maybe it is what this object references! This this case, looks like I mistyped an object name!\n",
    "<img src=\"vsc_images/VSC_2.png\" width=750 />\n",
    "\n",
    "<b>STEP 3:</b> Fix the issue and rerun the code, identifying any other errors\n",
    "<img src=\"vsc_images/VSC_3.png\" width=750 />\n",
    "\n",
    "<b>STEP 4:</b> No issues here!\n",
    "<img src=\"vsc_images/VSC_4.png\" width=750 />"
   ]
  },
  {
   "cell_type": "markdown",
   "metadata": {},
   "source": [
    "### Hint\n",
    "Here's a [sieve of Erastothenes](https://en.wikipedia.org/wiki/Sieve_of_Eratosthenes) in Python, and a list comprehension that returns prime numbers up to 100:"
   ]
  },
  {
   "cell_type": "code",
   "execution_count": 153,
   "metadata": {},
   "outputs": [
    {
     "data": {
      "text/plain": [
       "[2, 3, 5, 7, 11, 13, 17, 19, 23, 29]"
      ]
     },
     "execution_count": 153,
     "metadata": {},
     "output_type": "execute_result"
    }
   ],
   "source": [
    "N = 30\n",
    "table = list(range(N))\n",
    "for i in range(2,int(N**0.5)+1):\n",
    "    if table[i]:\n",
    "        for mult in range(i**2,N,i):\n",
    "            table[mult] = False\n",
    " \n",
    "primes = [p for p in table if p][1:]\n",
    "primes"
   ]
  },
  {
   "cell_type": "markdown",
   "metadata": {},
   "source": [
    "### Hint \\#2\n",
    "The only tricky part is to realize the sieve needs to go up to at least the thousands in order to be able to list the first 100 prime numbers. You'll have to try it out. Another tricky part is to realize that the `_unfold` function for prime numbers only needs to take a single input: a primer number, in order to return the next one in the list. Another possibly tricky part is you need to know how to get the first prime number from the sieve, because the `_unfold` pattern needs it. But just start at 2, everyone knows that's the first prime number! Ok, no more tricks, I told you everything :-)"
   ]
  },
  {
   "cell_type": "markdown",
   "metadata": {},
   "source": [
    "### Hint #3\n",
    "\n",
    "You can debug programs right on a notebook by fleshing out bigger cell blocks into smaller cell blocks. But a more professional way of dong this is by using a **debugger**. Here below, I show you how to install **Visual Studio Code**, the most popular Integrated Development Envrionment (IDE) for python systems/Web (i.e. *not* science) programming. \n",
    "\n",
    "In class, I'll show you how to debug with Visual Studio Code, in order to get a better understanding about what the heck you need to do with **Problem \\#3 Crazy Professor**."
   ]
  },
  {
   "cell_type": "markdown",
   "metadata": {},
   "source": [
    "#### Download Visual Studio Code for [Mac OS X](https://code.visualstudio.com/docs?dv=osx)\n",
    "\n",
    "- Double-click on VSCode-osx.zip to expand the contents\n",
    "- Drag Visual Studio Code.app to the Applications folder, making it available in the Launchpad.\n",
    "- Add VS Code to your Dock by right-clicking on the icon and choosing Options, Keep in Dock.\n",
    "- If you want to run VS Code from the terminal, append the following to your ~/.bash_profile file (~/.zshrc in case you use zsh).\n",
    "```(python)\n",
    "code () { VSCODE_CWD=\"$PWD\" open -n -b \"com.microsoft.VSCode\" --args $* ;}\n",
    "```\n",
    "\n",
    "Now, you can simply type `code .` in any folder to start editing files in that folder with Visual Studio Code."
   ]
  },
  {
   "cell_type": "markdown",
   "metadata": {},
   "source": [
    "#### Download Visual Studio Code for [Windows](https://code.visualstudio.com/docs?dv=win)\n",
    "\n",
    "- Double-click on `VSCodeSetup.exe` to launch the setup process\n",
    "- Visual Studio Code will be added to your path, so from the console you can simply type `code .` to open VS Code on that folder!\n",
    "- You might need to log off after the installation for the change to the PATH environmental variable to take effect\n"
   ]
  },
  {
   "cell_type": "markdown",
   "metadata": {},
   "source": [
    "#### Download Visual Studio Code for [Linux](https://code.visualstudio.com/docs?dv=linux64)\n",
    "\n",
    "- Make a new folder and extract `VSCode-linux-x64.zip` inside that folder\n",
    "- Double click on Code to run Visual Studio Code\n",
    "- If you want to run VS Code from the terminal, create the following link substituting `/path/to/vscode/Code` with the absolute path to the Code executable\n",
    "```(python)\n",
    "sudo ln -s /path/to/vscode/Code /usr/local/bin/code\n",
    "```\n",
    "- Now, you can simply type `code .` in any folder to start editing files in that folder."
   ]
  },
  {
   "cell_type": "markdown",
   "metadata": {},
   "source": [
    "#### Additional hint\n",
    "\n",
    "There are a few things you took for granted in a python noteobook that do not work in a regular `.py` file. For example, you cannot just type `primes` as with the last line of the code block above. You need to explicitely type `print(primes)` instead.\n",
    "\n",
    "Part of your assignment for this midterm is to learn how to use Visual Studio Code. It will be your friend, if you do, and next lecture we'll even dab into some Web and games programming for fun. But you can also totally do the midterm by staying within the warm, fuzzy confines of your deal old friend: your python notebook."
   ]
  },
  {
   "cell_type": "markdown",
   "metadata": {},
   "source": [
    "\n"
   ]
  },
  {
   "cell_type": "markdown",
   "metadata": {},
   "source": [
    "</br >\n",
    "<center>\n",
    "<img src=\"vscode.png\" width=1000 />\n",
    "</center>"
   ]
  }
 ],
 "metadata": {
  "kernelspec": {
   "display_name": "Python 3",
   "language": "python",
   "name": "python3"
  },
  "language_info": {
   "codemirror_mode": {
    "name": "ipython",
    "version": 3
   },
   "file_extension": ".py",
   "mimetype": "text/x-python",
   "name": "python",
   "nbconvert_exporter": "python",
   "pygments_lexer": "ipython3",
   "version": "3.7.1"
  }
 },
 "nbformat": 4,
 "nbformat_minor": 2
}
