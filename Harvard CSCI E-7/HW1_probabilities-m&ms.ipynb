{
 "cells": [
  {
   "cell_type": "markdown",
   "metadata": {
    "button": false,
    "new_sheet": false,
    "run_control": {
     "read_only": false
    }
   },
   "source": [
    "<div style=\"text-align: right\">CSCI E-7 Introduction to Python Programming for Life Sciences</div>\n",
    "<div style=\"text-align: right\">Dino Konstantopoulos, 3 February 2019, with some material from Cam Davidson-Pilon</div>\n",
    "\n",
    "At the end of this notebook, you should have a good understanding of **python list comprehensions**, **python dynamic types**, and be able to use them to improve the look and feel of programs in order to reduce verbosity and minimze the use of looping structures. You should also be comfortable capturing logical arguments into **python predicate functions**.\n",
    "\n",
    "\n",
    "Please unzip all images from each week's `images.zip` on canvas onto your `C:/Users/<username>/ipynb.images` folder (create it if it doesn't exist). If there's a `data.zip` file on blackboard, unzip its contents onto your `C:/Users/<username>/data` folder (create it if it doesn't exist)."
   ]
  },
  {
   "cell_type": "markdown",
   "metadata": {},
   "source": [
    "# 1. Probabilities and birthdays\n",
    "\n",
    "In 1814, Pierre-Simon, marquis de Laplace (23 March 1749 – 5 March 1827), a French scholar whose work was important to the development of mathematics, statistics, physics and astronomy, [wrote](https://en.wikipedia.org/wiki/Classical_definition_of_probability):\n",
    "\n",
    ">*Probability ... is thus simply a fraction whose numerator is the number of favorable cases and whose denominator is the number of all the cases possible ... when nothing leads us to expect that any one of these cases should occur more than any other.*\n",
    "\n",
    "\n",
    "Here's some vocabulary:\n",
    "\n",
    "- **[Experiment](https://en.wikipedia.org/wiki/Experiment_(probability_theory%29):**\n",
    "  An occurrence with an uncertain outcome that we can observe.\n",
    "  <br>*For example, rolling a die.*\n",
    "- **[Outcome](https://en.wikipedia.org/wiki/Outcome_(probability%29):**\n",
    "  The result of an experiment; one particular state of the world. What Laplace calls a \"case.\"\n",
    "  <br>*For example:* `4`.\n",
    "- **[Sample Space](https://en.wikipedia.org/wiki/Sample_space):**\n",
    "  The set of all possible outcomes for the experiment. \n",
    "  <br>*For example,* `{1, 2, 3, 4, 5, 6}`.\n",
    "- **[Event](https://en.wikipedia.org/wiki/Event_(probability_theory%29):**\n",
    "  A subset of possible outcomes that together have some property we are interested in.\n",
    "  <br>*For example, the event \"even die roll\" is the set of outcomes* `{2, 4, 6}`. \n",
    "  \n",
    "  <br />\n",
    "<center>\n",
    "<img src=\"https://i.warosu.org/data/sci/img/0067/71/1411506402282.png\" width=\"100\" height=\"100\" />\n",
    "</center>\n",
    "\n",
    "### Coins and Dice\n",
    "\n",
    "What's the probability of getting heads? How about two heads in a row? How about three heads in a row?\n",
    "\n",
    "What's the probability of getting a snake eye when rolling one die? How about when rolling two dice? What's the probability of rolling snake eye**s** with two dice? How about a total count of 4?\n",
    "  \n",
    "### Birthday Game\n",
    "What's the probability that someone in this classroom shares your birthday? \n",
    "Each person can have your birthday with probability 1/365. There are n−1 people other than yourself, so the probability that someone shares your birthday is ...\n",
    "\n",
    "Now, what is the probability that any *two* students in this classroom have the *same* birthday? Which one of the two you think is higher?"
   ]
  },
  {
   "cell_type": "markdown",
   "metadata": {},
   "source": [
    "### Probability that someone in this classroom shares your birthday? \n",
    "\n",
    "Each person can have your birthday with probability 1/365. There are n-1 people other than yourself, so the probability that someone shares your birthday is (n-1)/ 365. \n",
    "\n",
    "Why do we add probabilities? Because it's the **union** of two possibilities, as long as they have no intersection.\n",
    "\n",
    "Actually, if they have an intersection:\n",
    "$$p(A + B) = p(A) + p(B) - p(A \\cap B)$$"
   ]
  },
  {
   "cell_type": "code",
   "execution_count": 23,
   "metadata": {},
   "outputs": [
    {
     "data": {
      "text/plain": [
       "0.06027397260273973"
      ]
     },
     "execution_count": 23,
     "metadata": {},
     "output_type": "execute_result"
    }
   ],
   "source": [
    "# assume 23 people in class\n",
    "def probSomeoneShares(people):\n",
    "    return (people - 1)/365\n",
    "\n",
    "probSomeoneShares(23)"
   ]
  },
  {
   "cell_type": "markdown",
   "metadata": {},
   "source": [
    "Hmm.. What happens if there are 366 people in class?"
   ]
  },
  {
   "cell_type": "code",
   "execution_count": 24,
   "metadata": {},
   "outputs": [
    {
     "data": {
      "text/plain": [
       "1.0"
      ]
     },
     "execution_count": 24,
     "metadata": {},
     "output_type": "execute_result"
    }
   ],
   "source": [
    "probSomeoneShares(366)"
   ]
  },
  {
   "cell_type": "markdown",
   "metadata": {},
   "source": [
    "Really?\n",
    "\n",
    "Remember how we assumed birthdays are independent? Well, they aren’t!\n",
    "\n",
    "If Person A and Person B have the same birthday, that probability is indeed $\\frac{1}{365}$. But if we bring in a Person C to increase the probability of matching Person A, that person's birthday may also match person B's birthday! So according to the formula above, we need to remove the intersection. As we bring in more and more people, we need to remove all possible intersections. So as we bring in two people to match Person A, we need to remove the probability of these two people simultaneously matching A, so we need to remove $(\\frac{1}{365})^2$. As we bring in a third person to match person A, we will need to remove the probability of the third matching the first and the third matching the second, and the third matching both! What a mess!\n",
    "\n",
    "There is a better formula to take advantage of:\n",
    "$$p(A \\cup B) = p(A) * p(B)$$\n",
    "\n",
    "So we should compare everyone to everyone else by evaluating the chance of 2 people having *different* birthdays! That is\n",
    "\n",
    "$$ 1 - \\frac{1}{365} = \\frac{364}{365} = .997$$\n",
    "\n",
    "The chance of your friend having a different birthday than *you* is:\n",
    "\n",
    "$$ 1 - \\frac{1}{365} = \\frac{364}{365} = .997$$\n",
    "\n",
    "What's the probability of getting heads when flipping a coin? What's the probability of getting heads twice in a row?\n",
    "\n",
    "Now, what is the chance of 2 people having different birthdays than you? The product of each, since it's an intersection, exactly like a coin flip!\n",
    "\n",
    "$$ (1 - \\frac{1}{365})^2$$\n",
    "\n",
    "And so the chance of $n$ people having different birthdays than you must be:\n",
    "\n",
    "$$ (1 - \\frac{1}{365})^n$$\n",
    "\n",
    "And so the chance of people having different birthdays than you in a classroom of $n$ people must be:\n",
    "\n",
    "$$ (1 - \\frac{1}{365})^{n-1}$$\n",
    "\n",
    "And so the chance of people in a classroom of $n$ people having the the *same* birthday than you must be 1 minus the previous:\n",
    "\n",
    "$$ 1 - (1 - \\frac{1}{365})^{n-1}$$\n",
    "\n",
    "Write this down as a python expression."
   ]
  },
  {
   "cell_type": "code",
   "execution_count": 21,
   "metadata": {},
   "outputs": [
    {
     "data": {
      "text/plain": [
       "0.058571325264343166"
      ]
     },
     "execution_count": 21,
     "metadata": {},
     "output_type": "execute_result"
    }
   ],
   "source": [
    "# assume 23 people in class\n",
    "1 - (1 - 1./365.)**22"
   ]
  },
  {
   "cell_type": "markdown",
   "metadata": {},
   "source": [
    "and now.."
   ]
  },
  {
   "cell_type": "code",
   "execution_count": 25,
   "metadata": {},
   "outputs": [
    {
     "data": {
      "text/plain": [
       "0.6336315859687802"
      ]
     },
     "execution_count": 25,
     "metadata": {},
     "output_type": "execute_result"
    }
   ],
   "source": [
    "# assume 366 people in class\n",
    "1 - (1 - 1./365.)**366"
   ]
  },
  {
   "cell_type": "markdown",
   "metadata": {},
   "source": [
    "### Probability that two students in this classroom have the same birthday? \n",
    "\n",
    "For 2 students to share a birthday, we will approach the problem the other way around too, because probability that no two people have the same birthday is easier to ﬁnd.\n",
    "\n",
    "Let A be the event that two people have the same birthday. Then Ac is the event that no two people have the same birthday. Note that P(A) = 1−P(Ac).\n",
    "\n",
    "We start with person 1; this person can have any 1 of 365 days out of the year.\n",
    "\n",
    "A second person can only have a birthday on the 364 days out of the year that hasn’t been ‘taken\n",
    "By assumption of random birthdays, and of uniform probability, the chance that this person has any of the 364 birthdays is 364/365.\n",
    "\n",
    "A third person can only have a birthday out of the 353 days not ‘taken’ and the corresponding probability of such an event is 363/365.\n",
    "\n",
    "This continues until we’ve covered all n people.\n",
    "\n",
    "Since this is an **intersection** of events, probabilities multiply.\n",
    "\n",
    "So write down the probability of any two people sharing a birthday in a classroom of 223 people.."
   ]
  },
  {
   "cell_type": "code",
   "execution_count": 1,
   "metadata": {},
   "outputs": [
    {
     "name": "stdout",
     "output_type": "stream",
     "text": [
      "2 share: 0.5072972343239854\n"
     ]
    }
   ],
   "source": [
    "from operator import mul\n",
    "from functools import reduce\n",
    "\n",
    "# assume 23 people in class\n",
    "def prob2StudentsShare(people):\n",
    "    \"\"\"return 1 minus the negation (students NOT sharing a common birthday)\"\"\"\n",
    "    \"\"\"return 1 - (365 * 364 * 363 * 362 * 361 * 360 * 359 * 358 * 357 * 356 * ...)/ (365 ** 23)\"\"\"\n",
    "    l = [n for n in range(365, 365 - people, -1)]\n",
    "    return 1 - (reduce(mul, l, 1) / (365 ** people))\n",
    "\n",
    "print(\"2 share: \" + str(prob2StudentsShare(23)))"
   ]
  },
  {
   "cell_type": "markdown",
   "metadata": {},
   "source": [
    "What? With 23 people in a classroom (you are more than 23 right now!), there are higher than 50/50 odds that two of you share the same birthday! Try it out during class break!\n",
    "\n",
    "Why is that?\n",
    "\n",
    "Because with 23 people we can form 253 pairs: \n",
    "\n",
    "$$\\frac{23 * 22}{2} = 253$$ \n",
    "\n",
    "Once again, the chance of 2 people having *different* birthdays is:\n",
    "\n",
    "$$ 1 - \\frac{1}{365} = \\frac{364}{365} = .997$$\n",
    "\n",
    "Making 253 comparisons and having them all be different is like getting one of heads or tails 253 times in a row:\n",
    "\n",
    "$$(\\frac{364}{365})^{253} = .499$$\n",
    "\n",
    "So the chance we find a match is: 1 – 49.95% = 50.05%, or just over half.\n",
    "\n",
    "The probability of a match for any number of people $n$ the formula is:\n",
    "\n",
    "$$1 - (\\frac{364}{365})^{n(n-1)/2}$$\n",
    "\n",
    "In fact, $\\sqrt{n}$ is roughly the number you need to have a 50% chance of a match with $n$ items.\n",
    "\n",
    "### Note \n",
    "\n",
    "For n = 30, the odds of a common birthday increase to 70.6%, and most people still find it hard to believe that among 30 people there are probably two who have the same birthday! The table below lists various values of n and the probabilities, 1 − Pn, that at least two people have a common birthday.\n",
    "\n",
    "|n |10| 20| 23| 30| 50| 60| 70| 100|\n",
    "|--|--|--|--|--|--|--|--|--|--|--|\n",
    "|1 − Pn| 11.7%| 41.1%| 50.7%| 70.6%| 97.0%| 99.4%| 99.92%| 99.9994%|"
   ]
  },
  {
   "cell_type": "markdown",
   "metadata": {
    "button": false,
    "new_sheet": false,
    "run_control": {
     "read_only": false
    }
   },
   "source": [
    "# 2. Writing the Probability function in Python\n",
    "\n",
    "We need to introduce three definitions which are very important to life sciences:\n",
    "\n",
    "* [Frequency](https://en.wikipedia.org/wiki/Frequency_%28statistics%29): a number describing how often an outcome occurs. Can be a count like 121801, or a ratio like 0.515.\n",
    "\n",
    "* [Distribution](http://mathworld.wolfram.com/StatisticalDistribution.html): A mapping from outcome to frequency for each possible outcome in a sample space. \n",
    "\n",
    "* [Probability Distribution](https://en.wikipedia.org/wiki/Probability_distribution): The distribution above, which has been *normalized* so that the sum of the frequencies is 1.\n",
    "\n"
   ]
  },
  {
   "cell_type": "markdown",
   "metadata": {},
   "source": [
    "Now that we've warmed up with birthdays, let's see if we can define a probability function in Python\n",
    "\n",
    "<br />\n",
    "<center>\n",
    "<img src=\"https://i.warosu.org/data/sci/img/0067/71/1411506402282.png\" width=\"100\" height=\"100\" />\n",
    "</center>\n",
    "\n",
    "`p` is the traditional name give to the Probability function. Use Laplace's definition above to write the probability function `p`.\n",
    "\n",
    "```python\n",
    "from fractions import Fraction\n",
    "def p(event, space): \n",
    "    \"The probability of an event, given a sample space of equiprobable outcomes.\"\n",
    "    return Fraction(len(event & space), \n",
    "                    len(space))\n",
    "```\n",
    "Note:\n",
    "* We use ```Fraction``` rather than regular division because I want exact answers like 1/3, not 0.3333333333333333.\n",
    "* `&` is the python set *intersection* operation, while `|` is the python *union* operation."
   ]
  },
  {
   "cell_type": "code",
   "execution_count": 1,
   "metadata": {},
   "outputs": [],
   "source": [
    "from fractions import Fraction\n",
    "def p(event, space): \n",
    "    \"The probability of an event, given a sample space of equiprobable outcomes.\"\n",
    "    return Fraction(len(event & space), #& is an intersection \n",
    "                    len(space))"
   ]
  },
  {
   "cell_type": "markdown",
   "metadata": {},
   "source": [
    "**Exercise**: What's the probability of rolling an even number with a single six-sided fair die? Use python tuples (unordered collection with no duplicate elements), since we don't expect them to change.\n",
    "\n",
    "Define the sample space D:\n",
    "```D    = {...}```\n",
    "\n",
    "and the event even:\n",
    "```even = {...}```\n",
    "\n",
    "and compute the probability:\n",
    "```p(even, D)```\n",
    "\n",
    "Copy and paste the code above in the cell below, and replace ```...``` with the right values!"
   ]
  },
  {
   "cell_type": "code",
   "execution_count": 21,
   "metadata": {},
   "outputs": [
    {
     "data": {
      "text/plain": [
       "Fraction(1, 2)"
      ]
     },
     "execution_count": 21,
     "metadata": {},
     "output_type": "execute_result"
    }
   ],
   "source": [
    "from fractions import Fraction\n",
    "def p(event, space): \n",
    "    \"The probability of an event, given a sample space of equiprobable outcomes.\"\n",
    "    return Fraction(len(event & space), \n",
    "                    len(space))\n",
    "\n",
    "D    = {1,2,3,4,5,6}\n",
    "even = {2,4,6}\n",
    "p(even, D)"
   ]
  },
  {
   "cell_type": "code",
   "execution_count": null,
   "metadata": {},
   "outputs": [],
   "source": [
    "even = {2, 4, 6, 8, 10, 12, 14, 16, 18, 20}\n",
    "p(even, D)"
   ]
  },
  {
   "cell_type": "markdown",
   "metadata": {},
   "source": [
    "What happens if you specify ```even = {2, 4, 6, 8, 10, 12, 14, 16, 18, 20}```?\n",
    "\n",
    "To note:\n",
    "* The definition of ```p``` uses ```len(event & space)``` rather than ```len(event)``` because I don't want to count outcomes that were specified in event but aren't actually in the sample space."
   ]
  },
  {
   "cell_type": "markdown",
   "metadata": {},
   "source": [
    "# 3. Working with transformations instead of samples\n",
    "\n",
    "<br />\n",
    "<center>\n",
    "<img src=\"http://agilitrix.com/wp-content/uploads/2013/02/1-Transformation.jpg\"  width=\"500\" />\n",
    "</center>\n",
    "\n",
    "Sometimes we don't have a straightforward way to easily enumerate all possible samples in a sample space, but we have an easy way of defining a transformation that will yield a desired sample. In other words, we want to work with **lambdas** instead of **objects**. \n",
    "\n",
    "Here's a generator for natural numbers, a compact, transformation-based way of defining natural numbers so that we don't have to write a lot of data:"
   ]
  },
  {
   "cell_type": "code",
   "execution_count": null,
   "metadata": {},
   "outputs": [],
   "source": [
    "def numbers():\n",
    "    i = 0\n",
    "    while True:\n",
    "        yield i\n",
    "        i += 1"
   ]
  },
  {
   "cell_type": "markdown",
   "metadata": {},
   "source": [
    "And here's how to consume the generator (a bit ugly, granted, can you improve on this, i.e. no `break` statement?):"
   ]
  },
  {
   "cell_type": "code",
   "execution_count": null,
   "metadata": {},
   "outputs": [],
   "source": [
    "import queue as Q\n",
    "q = Q.Queue()\n",
    "for index, item in enumerate(numbers()):\n",
    "    q.put(item)\n",
    "    if index == 100:\n",
    "        break\n",
    "print(list(q.queue))"
   ]
  },
  {
   "cell_type": "markdown",
   "metadata": {},
   "source": [
    "In the case of the die roll, I can define an `even` lambda: "
   ]
  },
  {
   "cell_type": "code",
   "execution_count": null,
   "metadata": {},
   "outputs": [],
   "source": [
    "def even(n): return n % 2 == 0"
   ]
  },
  {
   "cell_type": "markdown",
   "metadata": {},
   "source": [
    "Now in order to make `p(even, D)` work, I'll have to modify `p` to accept an event as either\n",
    "a *set* of outcomes (as before), or a *predicate* over outcomes&mdash;a function that returns true for an outcome that is in the event:"
   ]
  },
  {
   "cell_type": "markdown",
   "metadata": {},
   "source": [
    "# 4. Extending the probability function with polymorphic types\n",
    "\n",
    "Let's define `ProbDist`, a probability distribution, to take the same kinds of arguments that dict does: a set of (key, val) pairs. This is the first time (in class), that we define a Python `class`, instead of a Python function/lambda. That is why we define its constructor `__init__()`. We assume `self` (`this` in Python) is composed of a set. All `ProbDist` does is iterate over a dicitonary and convert count values into fractions that add up to 1 so that they can be probabilities of a space of possible events (where the probability of each event adds up to 1)."
   ]
  },
  {
   "cell_type": "code",
   "execution_count": 4,
   "metadata": {
    "button": false,
    "new_sheet": false,
    "run_control": {
     "read_only": false
    }
   },
   "outputs": [],
   "source": [
    "class ProbDist(dict):\n",
    "    \"\"\"A Probability Distribution; an {outcome: probability} mapping.\"\"\"\n",
    "    def __init__(self, mapping=(), **kwargs):\n",
    "        self.update(mapping, **kwargs)\n",
    "        # Make probabilities sum to 1.0; assert no negative probabilities\n",
    "        total = sum(self.values())\n",
    "        for outcome in self:\n",
    "            self[outcome] = self[outcome] / total\n",
    "            assert self[outcome] >= 0"
   ]
  },
  {
   "cell_type": "markdown",
   "metadata": {},
   "source": [
    "Crap! What does `**kwargs` mean? Look at this function below. It's a magic function that returns all positional arguments and all names arguments."
   ]
  },
  {
   "cell_type": "code",
   "execution_count": 33,
   "metadata": {},
   "outputs": [],
   "source": [
    "def magic(*args, **kwargs):\n",
    "    print (\"unnamed args: \", args)\n",
    "    print (\"keyword args: \", kwargs)"
   ]
  },
  {
   "cell_type": "markdown",
   "metadata": {},
   "source": [
    "So we can do:"
   ]
  },
  {
   "cell_type": "code",
   "execution_count": 32,
   "metadata": {},
   "outputs": [
    {
     "name": "stdout",
     "output_type": "stream",
     "text": [
      "unnamed args:  (1, 2, 3)\n",
      "keyword args:  {'key1': 'Harvard', 'key2': 'Hockey', 'key3': 'rocks!'}\n"
     ]
    }
   ],
   "source": [
    "magic(1, 2, 3, key1 = 'Harvard', key2 = 'Hockey', key3 = \"rocks!\")"
   ]
  },
  {
   "cell_type": "markdown",
   "metadata": {},
   "source": [
    "See how it gives us all positional and all named arguments?"
   ]
  },
  {
   "cell_type": "markdown",
   "metadata": {
    "button": false,
    "new_sheet": false,
    "run_control": {
     "read_only": false
    }
   },
   "source": [
    "Now we need to modify the function `p` to accept either a collection as the first argument, as we had previously, **or a predicate function instead**. We say that we make the function **polymorphic** because it can now accept different types of arguments.\n",
    "\n",
    "But we need a `such_that()` function to do this, which converts predicate functions to real collections of data."
   ]
  },
  {
   "cell_type": "code",
   "execution_count": 7,
   "metadata": {
    "button": false,
    "new_sheet": false,
    "run_control": {
     "read_only": false
    }
   },
   "outputs": [],
   "source": [
    "def p(event, space): \n",
    "    \"\"\"The probability of an event, given a sample space of equiprobable outcomes.\n",
    "    event can be either a set of outcomes, or a predicate (true for outcomes in the event).\"\"\"\n",
    "    if is_predicate(event):\n",
    "        event = such_that(event, space)\n",
    "    return Fraction(len(event & space), len(space))\n",
    "\n",
    "is_predicate = callable\n",
    "\n",
    "def such_that(predicate, collection): \n",
    "    \"\"\"The subset of elements in the collection for which the predicate is true.\"\"\"\n",
    "    return {e for e in collection if predicate(e)}"
   ]
  },
  {
   "cell_type": "markdown",
   "metadata": {
    "button": false,
    "new_sheet": false,
    "run_control": {
     "read_only": false
    }
   },
   "source": [
    "Now, let's work with M&M bags."
   ]
  },
  {
   "cell_type": "markdown",
   "metadata": {
    "button": false,
    "new_sheet": false,
    "run_control": {
     "read_only": false
    }
   },
   "source": [
    "# 5. M&Ms\n",
    "<br />\n",
    "<center>\n",
    "<img src=\"https://upload.wikimedia.org/wikipedia/en/9/97/M%26M_spokescandies.jpeg\" />\n",
    "</center>\n",
    "\n",
    "Here's a classic urn problem (or \"bag\" problem) from prolific Python/Probability author [Allen Downey](http://allendowney.blogspot.com/), which also happens to be a classic interview question:\n",
    "\n",
    "> The blue M&M was introduced in 1995.  Before then, the color mix in a bag of plain M&Ms was (30% Brown, 20% Yellow, 20% Red, 10% Green, 10% Orange, 10% Tan).  Afterward it was (24% Blue , 20% Green, 16% Orange, 14% Yellow, 13% Red, 13% Brown). \n",
    "A friend of mine has two bags of M&Ms, and he tells me that one is from 1994 and one from 1996.  He won't tell me which is which, but he gives me one M&M from each bag.  One is yellow and one is green.  What is the probability that the yellow M&M came from the 1994 bag? Well, the old M&M bags' yellow count was higher, so it must be higher, right? But how to count?\n",
    "\n",
    "To solve this problem, we'll first represent probability distributions for each bag: `bag94` and `bag96`, by using `ProbDist` and passing in dictionaries for each year:\n",
    "```python\n",
    "bag94 = ProbDist(brown=30, yellow=20, red=20, green=10, orange=10, tan=10)\n",
    "bag96 = ProbDist(...)  #fill this in, please\n",
    "```"
   ]
  },
  {
   "cell_type": "markdown",
   "metadata": {},
   "source": [
    "We want to convert the dictionary into a dictionary where the values are probabilities, so that means all the values need to sum to 1. So we apply the `ProbDist` function to the input dictionary."
   ]
  },
  {
   "cell_type": "code",
   "execution_count": 29,
   "metadata": {
    "button": false,
    "new_sheet": false,
    "run_control": {
     "read_only": false
    }
   },
   "outputs": [],
   "source": [
    "bag94 = ProbDist(brown=30, yellow=20, red=20, green=10, orange=10, tan=10)\n",
    "bag96 = ProbDist(brown=13, yellow=14, red=13, green=20, orange=14, blue=24)"
   ]
  },
  {
   "cell_type": "code",
   "execution_count": 31,
   "metadata": {},
   "outputs": [
    {
     "data": {
      "text/plain": [
       "{'brown': 0.1326530612244898,\n",
       " 'yellow': 0.14285714285714285,\n",
       " 'red': 0.1326530612244898,\n",
       " 'green': 0.20408163265306123,\n",
       " 'orange': 0.14285714285714285,\n",
       " 'blue': 0.24489795918367346}"
      ]
     },
     "execution_count": 31,
     "metadata": {},
     "output_type": "execute_result"
    }
   ],
   "source": [
    "bag96"
   ]
  },
  {
   "cell_type": "markdown",
   "metadata": {},
   "source": [
    "Sample the collections:"
   ]
  },
  {
   "cell_type": "code",
   "execution_count": 12,
   "metadata": {},
   "outputs": [
    {
     "data": {
      "text/plain": [
       "['green', 'red', 'orange']"
      ]
     },
     "execution_count": 12,
     "metadata": {},
     "output_type": "execute_result"
    }
   ],
   "source": [
    "import random\n",
    "random.sample(list(bag96), 3)"
   ]
  },
  {
   "cell_type": "markdown",
   "metadata": {
    "button": false,
    "new_sheet": false,
    "run_control": {
     "read_only": false
    }
   },
   "source": [
    "Now define the following predicate function (cut and paste into cell below):\n",
    "\n",
    "```python\n",
    "def blue(outcome): return 'blue' in outcome\n",
    "```"
   ]
  },
  {
   "cell_type": "code",
   "execution_count": 16,
   "metadata": {
    "button": false,
    "new_sheet": false,
    "run_control": {
     "read_only": false
    }
   },
   "outputs": [],
   "source": [
    "def blue(outcome): return 'blue' in outcome"
   ]
  },
  {
   "cell_type": "markdown",
   "metadata": {},
   "source": [
    "Now use the `blue` predicate function to filter only the blue M&Ms from each bag of M&Ms, pre-95 and post-95. \n",
    "```python\n",
    "such_that(...) # fill this in\n",
    "```"
   ]
  },
  {
   "cell_type": "code",
   "execution_count": 17,
   "metadata": {},
   "outputs": [
    {
     "data": {
      "text/plain": [
       "set()"
      ]
     },
     "execution_count": 17,
     "metadata": {},
     "output_type": "execute_result"
    }
   ],
   "source": [
    "bag_94_blue = such_that(blue, {'brown', 'yellow', 'red', 'green', 'orange', 'tan'})\n",
    "bag_94_blue"
   ]
  },
  {
   "cell_type": "markdown",
   "metadata": {},
   "source": [
    "It's the empty set!"
   ]
  },
  {
   "cell_type": "code",
   "execution_count": 15,
   "metadata": {},
   "outputs": [
    {
     "data": {
      "text/plain": [
       "{'blue'}"
      ]
     },
     "execution_count": 15,
     "metadata": {},
     "output_type": "execute_result"
    }
   ],
   "source": [
    "bag_96_blue = such_that(blue, {'blue', 'green', 'orange', 'yellow', 'red', 'brown'})\n",
    "bag_96_blue"
   ]
  },
  {
   "cell_type": "markdown",
   "metadata": {},
   "source": [
    "That's the only M&M which passes the predicate function `blue`!\n",
    "\n",
    "Now I can write:"
   ]
  },
  {
   "cell_type": "code",
   "execution_count": 24,
   "metadata": {},
   "outputs": [
    {
     "data": {
      "text/plain": [
       "Fraction(1, 6)"
      ]
     },
     "execution_count": 24,
     "metadata": {},
     "output_type": "execute_result"
    }
   ],
   "source": [
    "p({'blue'}, {'blue', 'green', 'orange', 'yellow', 'red', 'brown'})"
   ]
  },
  {
   "cell_type": "markdown",
   "metadata": {},
   "source": [
    "But also:"
   ]
  },
  {
   "cell_type": "code",
   "execution_count": 25,
   "metadata": {},
   "outputs": [
    {
     "data": {
      "text/plain": [
       "Fraction(1, 6)"
      ]
     },
     "execution_count": 25,
     "metadata": {},
     "output_type": "execute_result"
    }
   ],
   "source": [
    "p(blue, {'blue', 'green', 'orange', 'yellow', 'red', 'brown'})"
   ]
  },
  {
   "cell_type": "markdown",
   "metadata": {},
   "source": [
    "In the first case, I get the probability of getting a blue M&M by specifying the collection of interest, and in the second case exactly the same thing by specifying a filtering predicate."
   ]
  },
  {
   "cell_type": "markdown",
   "metadata": {},
   "source": [
    "## Homework\n",
    "\n",
    "Now use what you learned from strings and predicate functions to filter each M&M bag collection so that you only return the M&Ms **whose color starts with the letter 'b'**. Fill in the ellipses below."
   ]
  },
  {
   "cell_type": "code",
   "execution_count": 41,
   "metadata": {},
   "outputs": [],
   "source": [
    "def starts_with_letter_b(outcome): return outcome.startswith('b')"
   ]
  },
  {
   "cell_type": "code",
   "execution_count": 46,
   "metadata": {},
   "outputs": [
    {
     "data": {
      "text/plain": [
       "{'brown'}"
      ]
     },
     "execution_count": 46,
     "metadata": {},
     "output_type": "execute_result"
    }
   ],
   "source": [
    "bag_94_starts_with_letter_b = such_that(starts_with_letter_b, {'brown', 'yellow', 'red', 'green', 'orange', 'tan'})\n",
    "bag_94_starts_with_letter_b"
   ]
  },
  {
   "cell_type": "code",
   "execution_count": 47,
   "metadata": {},
   "outputs": [
    {
     "data": {
      "text/plain": [
       "{'blue', 'brown'}"
      ]
     },
     "execution_count": 47,
     "metadata": {},
     "output_type": "execute_result"
    }
   ],
   "source": [
    "bag_96_starts_with_letter_b = such_that(starts_with_letter_b, {'blue', 'green', 'orange', 'yellow', 'red', 'brown'})\n",
    "bag_96_starts_with_letter_b"
   ]
  },
  {
   "cell_type": "markdown",
   "metadata": {},
   "source": [
    "Hint: a string that starts with the letter 's' can be be predicated this way:\n",
    "```python\n",
    "'supercalifragilisticespielidocious'.startswith('s')\n",
    "```"
   ]
  },
  {
   "cell_type": "code",
   "execution_count": 36,
   "metadata": {},
   "outputs": [
    {
     "data": {
      "text/plain": [
       "True"
      ]
     },
     "execution_count": 36,
     "metadata": {},
     "output_type": "execute_result"
    }
   ],
   "source": [
    "'supercalifragilisticespielidocious'.startswith('s')"
   ]
  }
 ],
 "metadata": {
  "kernelspec": {
   "display_name": "Python 3",
   "language": "python",
   "name": "python3"
  },
  "language_info": {
   "codemirror_mode": {
    "name": "ipython",
    "version": 3
   },
   "file_extension": ".py",
   "mimetype": "text/x-python",
   "name": "python",
   "nbconvert_exporter": "python",
   "pygments_lexer": "ipython3",
   "version": "3.7.1"
  }
 },
 "nbformat": 4,
 "nbformat_minor": 1
}
