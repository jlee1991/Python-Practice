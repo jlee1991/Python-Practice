{
 "cells": [
  {
   "cell_type": "markdown",
   "metadata": {},
   "source": [
    "## <div style=\"text-align: right\">CSCI E-7 Introduction to Python Programming for Life Sciences</div>\n",
    "<div style=\"text-align: right\">Dino Konstantopoulos, **Final Exam: Part B, in-class Portion**</div>\n",
    "\n",
    "You have 4 hours for this exam. It should not take that long because you can  pick any 4 out of the 6 problems to solve.  Each problem is worth 25 points each.   The Bonus is worth 20 points.  Total maximum points you can obtain: 120 points.  Also please generate a pdf and upload your notebook and pdf (and text files from any of the problems below that you were asked to create).  Do NOT remove the problem statements. You may provide pseudocode and partial code when stuck for partial credit).\n",
    "\n",
    "Note that we will credit partial work, as long as you are getting *closer* to the desired solution. Random work (throwing code blindfolded, hoping to get to a solution) will not get you any credit.\n",
    "*Good luck*!\n",
    "\n",
    "\n",
    "# Problem 1 (25 points) \n",
    "\n",
    "### Turn the dictionary `problem1` into a list that includes both keys and values. [5 points) Then, go through each element of the list and split the list into *two* lists: so that all integers are in one list and all strings are in the other. (5 points) Sort both lists in descending order using the python `sorted` function.  (5 points) Remove any duplicate integers and print both lists to a text file (problem1.txt).  Also show  both lists in a cell. (10 points)\n",
    "<p>Expected output:</p>\n",
    "<p>['list of stringshereindescendingorder']</p>\n",
    "<p> [list of numerics in descending order]</p>\n"
   ]
  },
  {
   "cell_type": "code",
   "execution_count": 1,
   "metadata": {},
   "outputs": [],
   "source": [
    "problem1 = {'RNA':'deoxynucleotides', 'polymerase':1, 'ANN':2, 'DNA':3, 'bases':'degenerate', 'polyploid' \n",
    ":'Introns', 1:4, 'kinetics':5, 'mRNA produced': 'sequence','primers1':62, 221:'proton', -10: 'RNNase', 'seven': 'diploid', 'genomes ':8, 9:'paralogy', 'primers':'organellar'} "
   ]
  },
  {
   "cell_type": "code",
   "execution_count": 98,
   "metadata": {},
   "outputs": [
    {
     "data": {
      "text/plain": [
       "[('RNA', 'deoxynucleotides'),\n",
       " ('polymerase', 1),\n",
       " ('ANN', 2),\n",
       " ('DNA', 3),\n",
       " ('bases', 'degenerate'),\n",
       " ('polyploid', 'Introns'),\n",
       " (1, 4),\n",
       " ('kinetics', 5),\n",
       " ('mRNA produced', 'sequence'),\n",
       " ('primers1', 62),\n",
       " (221, 'proton'),\n",
       " (-10, 'RNNase'),\n",
       " ('seven', 'diploid'),\n",
       " ('genomes ', 8),\n",
       " (9, 'paralogy'),\n",
       " ('primers', 'organellar')]"
      ]
     },
     "execution_count": 98,
     "metadata": {},
     "output_type": "execute_result"
    }
   ],
   "source": [
    "#Turn the key/value pair into a list of tuples\n",
    "problem1_list = [(k, v) for k, v in problem1.items()]\n",
    "problem1_list"
   ]
  },
  {
   "cell_type": "code",
   "execution_count": 99,
   "metadata": {},
   "outputs": [],
   "source": [
    "#Take the tuples and convert them into a single list\n",
    "#Source: https://stackoverflow.com/questions/7558908/unpacking-a-list-tuple-of-pairs-into-two-lists-tuples\n",
    "test1,test2 = zip(*problem1_list)\n",
    "problem1_list_merged = test1 + test2\n",
    "#problem1_list_merged"
   ]
  },
  {
   "cell_type": "code",
   "execution_count": 100,
   "metadata": {},
   "outputs": [],
   "source": [
    "#Apply list comprehension to the merged list to divide into a list of integers and strings\n",
    "#Apply the sorted funtion to order in descending order\n",
    "#Source: https://stackoverflow.com/questions/39824683/filter-lists-elements-by-type-of-each-element\n",
    "#Source: https://www.geeksforgeeks.org/sorted-function-python/\n",
    "integers = sorted([elm for elm in problem1_list_merged if isinstance(elm, int)], reverse = True)\n",
    "string = sorted([elm for elm in problem1_list_merged if isinstance(elm, str)], reverse = True)"
   ]
  },
  {
   "cell_type": "code",
   "execution_count": 101,
   "metadata": {},
   "outputs": [
    {
     "name": "stdout",
     "output_type": "stream",
     "text": [
      "Sorted Integer List : \n",
      "[221, 62, 9, 8, 5, 4, 3, 2, 1, 1, -10]\n",
      "\n",
      "Sorted String List : \n",
      "['seven', 'sequence', 'proton', 'primers1', 'primers', 'polyploid', 'polymerase', 'paralogy', 'organellar', 'mRNA produced', 'kinetics', 'genomes ', 'diploid', 'deoxynucleotides', 'degenerate', 'bases', 'RNNase', 'RNA', 'Introns', 'DNA', 'ANN']\n"
     ]
    },
    {
     "data": {
      "text/plain": [
       "(None, None)"
      ]
     },
     "execution_count": 101,
     "metadata": {},
     "output_type": "execute_result"
    }
   ],
   "source": [
    "print(\"Sorted Integer List : \"), print(integers)\n",
    "print(\"\\nSorted String List : \"), print(string)"
   ]
  },
  {
   "cell_type": "code",
   "execution_count": 129,
   "metadata": {},
   "outputs": [],
   "source": [
    "#Remove the duplicate values in each list\n",
    "#Source: https://stackoverflow.com/questions/7961363/removing-duplicates-in-lists\n",
    "int_set = sorted(list(set(integers)), reverse = True)\n",
    "str_set = sorted(list(set(string)), reverse = True)"
   ]
  },
  {
   "cell_type": "code",
   "execution_count": 118,
   "metadata": {},
   "outputs": [
    {
     "name": "stdout",
     "output_type": "stream",
     "text": [
      "Sorted Unique Integer List : \n",
      "[221, 62, 9, 8, 5, 4, 3, 2, 1, -10]\n",
      "\n",
      "Sorted Unique String List : \n",
      "['seven', 'sequence', 'proton', 'primers1', 'primers', 'polyploid', 'polymerase', 'paralogy', 'organellar', 'mRNA produced', 'kinetics', 'genomes ', 'diploid', 'deoxynucleotides', 'degenerate', 'bases', 'RNNase', 'RNA', 'Introns', 'DNA', 'ANN']\n"
     ]
    },
    {
     "data": {
      "text/plain": [
       "(None, None)"
      ]
     },
     "execution_count": 118,
     "metadata": {},
     "output_type": "execute_result"
    }
   ],
   "source": [
    "print(\"Sorted Unique Integer List : \"), print(int_set)\n",
    "print(\"\\nSorted Unique String List : \"), print(str_set)"
   ]
  },
  {
   "cell_type": "code",
   "execution_count": 104,
   "metadata": {},
   "outputs": [],
   "source": [
    "#Save both lists to a text file!\n",
    "#Source: https://stackoverflow.com/questions/899103/writing-a-list-to-a-file-with-python\n",
    "with open('problem1.txt', 'w') as f:\n",
    "    f.write(\"Integer List: \")\n",
    "    for item in int_set:\n",
    "        f.write(\"%s \" % item)\n",
    "    f.write(\"\\n\\nString List: \")\n",
    "    for item in str_set:\n",
    "        f.write(\"%s \" % item)"
   ]
  },
  {
   "cell_type": "markdown",
   "metadata": {},
   "source": [
    "# Problem 2 (25 points)\n",
    "\n",
    "### Write a python function that uses methods from the python [Stack Class](https://www.tutorialspoint.com/python/python_stack.htm)  (note: scroll to bottom of the page) and  remove *all* elements from one list and add them to a Stack. (10 points) Use it on one of the sorted lists in Problem 1 above (output above is provided in the example). Print the list and the new Stack in a file called problem 2.txt.  Also show the stack and list in a cell. (15 points)"
   ]
  },
  {
   "cell_type": "markdown",
   "metadata": {},
   "source": [
    "<b>Note:</b> Skipping this problem (unless any of my other answers are even less correct). I do want to better understand the solution once the final is completed. The problem is a little unclear to me, but I do believe that I get the gist. Below is my attempt but would love some feedback - should I be popping off the values and then simultaneously adding them to the newly created stack? I'm just pushing all the values from the list to a new stack and then clearing the list currently (if that was the intention of the question). Also, how would I print a stack - unless you are looking for the object as my _ _str__ function is not working correctly?"
   ]
  },
  {
   "cell_type": "code",
   "execution_count": 274,
   "metadata": {},
   "outputs": [
    {
     "data": {
      "text/plain": [
       "[221, 62, 9, 8, 5, 4, 3, 2, 1, -10]"
      ]
     },
     "execution_count": 274,
     "metadata": {},
     "output_type": "execute_result"
    }
   ],
   "source": [
    "int_set"
   ]
  },
  {
   "cell_type": "code",
   "execution_count": 275,
   "metadata": {},
   "outputs": [
    {
     "data": {
      "text/plain": [
       "[221, 62, 9, 8, 5, 4, 3, 2, 1, -10]"
      ]
     },
     "execution_count": 275,
     "metadata": {},
     "output_type": "execute_result"
    }
   ],
   "source": [
    "#This is just to deal with testing because I don't want to impact int_set by clearing the list\n",
    "int_set2 = [i for i in int_set]\n",
    "int_set2"
   ]
  },
  {
   "cell_type": "code",
   "execution_count": 276,
   "metadata": {},
   "outputs": [],
   "source": [
    "class Stack:\n",
    "\n",
    "    def __init__(self):\n",
    "        self.stack = []\n",
    "        \n",
    "    def __str__(self): \n",
    "        return \"Stack: \"+self.stack\n",
    "\n",
    "    def add(self, dataval):\n",
    "    # Use list append method to add element\n",
    "        if dataval not in self.stack:\n",
    "            self.stack.append(dataval)\n",
    "            return True\n",
    "        else:\n",
    "            return False\n",
    "        \n",
    "    # Use list pop method to remove element\n",
    "    def remove(self):\n",
    "        if len(self.stack) <= 0:\n",
    "            return (\"No element in the Stack\")\n",
    "        else:\n",
    "            return self.stack.pop()\n",
    "\n",
    "    # Use peek to look at the top of the stack\n",
    "    def peek(self):     \n",
    "\t    return self.stack[-1]"
   ]
  },
  {
   "cell_type": "code",
   "execution_count": 277,
   "metadata": {},
   "outputs": [],
   "source": [
    "def List2Stack(list):\n",
    "    \n",
    "    #Instantiate a stack\n",
    "    p2Stack = Stack()\n",
    "\n",
    "    #Add in all values form the input list to the new Stack\n",
    "    for i in list:\n",
    "        p2Stack.add(i)\n",
    "        print(\"Last Value Added: \", p2Stack.peek())\n",
    "    \n",
    "    #Remove values from list\n",
    "    list.clear()\n",
    "    print(\"List Emptied:\", list)"
   ]
  },
  {
   "cell_type": "code",
   "execution_count": 278,
   "metadata": {},
   "outputs": [
    {
     "name": "stdout",
     "output_type": "stream",
     "text": [
      "Last Value Added:  221\n",
      "Last Value Added:  62\n",
      "Last Value Added:  9\n",
      "Last Value Added:  8\n",
      "Last Value Added:  5\n",
      "Last Value Added:  4\n",
      "Last Value Added:  3\n",
      "Last Value Added:  2\n",
      "Last Value Added:  1\n",
      "Last Value Added:  -10\n",
      "List Emptied: []\n"
     ]
    }
   ],
   "source": [
    "List2Stack(int_set2)"
   ]
  },
  {
   "cell_type": "markdown",
   "metadata": {},
   "source": [
    "# Problem 3 (25 points)\n",
    "\n",
    "### Part A: Given the DNA sequence below. return a list of all [palindromes](https://en.wikipedia.org/wiki/Palindrome) within the sequence below, that have a length greater than or equal to 3. Provide the number of palindromes found as well. (15 points)\n",
    "\n",
    "### Part B) Print the longest palindrome from the sequence.  Do this using code.  (10 points)\n",
    "\n",
    "An ***example*** is reproduced here below for illustration:\n",
    "\n",
    "If the original sequence is :  AATACGGGCATAA\n",
    "The list of palindromes are:  ['ATA', 'ATACGGGCATA', 'TACGGGCAT', 'ACGGGCA', 'CGGGC', 'GGG', 'ATA']\n",
    "There are **7** palindromes in the sequence\n",
    "The longest palindrome is: ATACGGGCATA\n",
    "\n",
    "The sequence you will work with is given in next cell. It is a real DNA sequence."
   ]
  },
  {
   "cell_type": "code",
   "execution_count": 211,
   "metadata": {},
   "outputs": [],
   "source": [
    "sequence = \"CCGATTTAGCCGTGGAGAGTCGCGCGCTGAGAGGTGGGAGAGGCTAAACGCGACAGCGCAAATCCTTTATATTTCGGTCACTGGGTCATACCATACTGCAGACTAAAATTCGAAGAGAAGCTTAAAATGAGGATTAGTGTCCTGTATGCGTGCGGTCCTGGCGTGCGTAGGTATTATGTGTATTATGGATGCTCGTACTCACCACTCTCGTGGCGGTGCTTGATCGCTAGTGCAAAACGTTTTGCCCCGGCCCCGTTTTAAGAAGAGGCAACGGAGCACAATTTCTTTCTTTAACACCAAATAGGTGTGGATAAACCTGCGAAGGAAGCGTC\""
   ]
  },
  {
   "cell_type": "code",
   "execution_count": 221,
   "metadata": {},
   "outputs": [],
   "source": [
    "#Source: https://codereview.stackexchange.com/questions/110079/find-all-distinct-palindromic-sub-strings-for-a-given-string\n",
    "def all_palindromes(text):\n",
    "    \"\"\"Return list with all palindrome strings within text.\n",
    "\n",
    "    The base of this algorithm is to start with a given character,\n",
    "    and then see if the surrounding characters are equal. If they\n",
    "    are equal then it's a palindrome and is added to results set,\n",
    "    extend to check if the next character on either side is equal, \n",
    "    adding to set if equal, and breaking out of loop if not.\n",
    "\n",
    "    This needs to be repeated twice, once for palindromes of \n",
    "    odd lengths, and once for palindromes of an even length.\"\"\"\n",
    "\n",
    "    results = set()\n",
    "    text_length = len(text)\n",
    "    for idx, char in enumerate(text):\n",
    "\n",
    "        # Check for longest odd palindrome(s)\n",
    "        start, end = idx - 1, idx + 1\n",
    "        while start >= 0 and end < text_length and text[start] == text[end]:\n",
    "            results.add(text[start:end+1])\n",
    "            start -= 1\n",
    "            end += 1\n",
    "\n",
    "        # Check for longest even palindrome(s)\n",
    "        start, end = idx, idx + 1\n",
    "        while start >= 0 and end < text_length and text[start] == text[end]:\n",
    "            results.add(text[start:end+1])\n",
    "            start -= 1\n",
    "            end += 1\n",
    "\n",
    "    return list(results)"
   ]
  },
  {
   "cell_type": "markdown",
   "metadata": {},
   "source": [
    "<b>Note:</b> I'm a little confused by this problem as the example solution above does not include the largest palindrome but incuded a repeat (ATA). I was able to find an example finding unique palindromes (over 1) which is what I understood from the problem initially. If this is completely wrong please refer to my Problem 2. See below for my validation of the example:"
   ]
  },
  {
   "cell_type": "code",
   "execution_count": 254,
   "metadata": {},
   "outputs": [
    {
     "data": {
      "text/plain": [
       "['CGGGC', 'GGG', 'ACGGGCA', 'TACGGGCAT', 'AATACGGGCATAA', 'ATACGGGCATA', 'ATA']"
      ]
     },
     "execution_count": 254,
     "metadata": {},
     "output_type": "execute_result"
    }
   ],
   "source": [
    "sequence2 = 'AATACGGGCATAA'\n",
    "[palindrome for palindrome in all_palindromes(sequence2) if len(palindrome) >=3]"
   ]
  },
  {
   "cell_type": "code",
   "execution_count": 268,
   "metadata": {},
   "outputs": [
    {
     "name": "stdout",
     "output_type": "stream",
     "text": [
      "['CTGGGTC', 'TTATGTGTATT', 'GCCCCG', 'GCTCG', 'CGCGCGC', 'TGTGT', 'GCGCG', 'CGTGC', 'TGCCCCGGCCCCGT', 'ATACCATA', 'GCGTGCG', 'TGCGAAGGAAGCGT', 'TATTATGTGTATTAT', 'GTTTTG', 'AACGCGACAGCGCAA', 'GGCAACGG', 'GTCGCGCGCTG', 'TGCGGTCCTGGCGT', 'CCCGGCCC', 'TTTATATTT', 'GCAACG', 'GAAGGAAG', 'GGTGG', 'TGCGT', 'CCGGCC', 'GAGTCGCGCGCTGAG', 'CCCC', 'CCGATTTAGCC', 'AAGAGAA', 'CGAAGGAAGC', 'GTCACTG', 'GTATTATG', 'CTTTC', 'TATAT', 'CGCGC', 'TAGGTATTATGTGTATTATGGAT', 'AATTCGAAGAGAAGCTTAA', 'ATTCGAAGAGAAGCTTA', 'GGTCCTGG', 'AGGCAACGGA', 'ATTTCTTTCTTTA', 'GTG', 'TGGAGAGTCGCGCGCTGAGAGGT', 'CCAAATAGGTGTGGATAAACC', 'AGAGTCGCGCGCTGAGA', 'ATTA', 'CAAATAGGTGTGGATAAAC', 'CAGAC', 'ACAATTTCTTTCTTTAACA', 'AAAA', 'TGTCCTGT', 'AATAGGTGTGGATAA', 'GGTATTATGTGTATTATGG', 'AAACGCGACAGCGCAAA', 'TTCTTTCTT', 'GGTGTGG', 'GCAAAACG', 'GGAGAGG', 'TAAACGCGACAGCGCAAAT', 'GAGAGTCGCGCGCTGAGAG', 'CGAAGAGAAGC', 'TTTCTTTCTTT', 'CGATTTAGC', 'CGTTTTGC', 'CTCACCACTC', 'GTGGAGAGTCGCGCGCTGAGAGGTG', 'AGAAGA', 'AAAATTCGAAGAGAAGCTTAAAA', 'TCT', 'CCCCGGCCCC', 'TTTCTTT', 'AATTTCTTTCTTTAA', 'TCATACCATACT', 'GTCCTG', 'AGAGA', 'ATCGCTA', 'GTCATACCATACTG', 'TCGTGGCGGTGCT', 'AGA', 'GTGTG', 'CGTAGGTATTATGTGTATTATGGATGC', 'ACGCGACAGCGCA', 'CACCAC', 'GCGGTCCTGGCG', 'ATGTGTA', 'TGATCGCTAGT', 'GCG', 'TTCGAAGAGAAGCTT', 'GTGGCGGTG', 'CATAC', 'AGGA', 'TATTAT', 'GTATTATGTGTATTATG', 'TTGCCCCGGCCCCGTT', 'CGC', 'TAGGTGTGGAT', 'TTT', 'CTCTC', 'TGCAAAACGT', 'ATTATGTGTATTA', 'CAATTTCTTTCTTTAAC', 'ACTGGGTCA', 'ATGCTCGTA', 'TGGGT', 'GCGACAGCG', 'CGTGCGGTCCTGGCGTGC', 'CGCGACAGCGC', 'GGG', 'GATTAG', 'TAT', 'CTC', 'CGGTCCTGGC', 'CAAC', 'TGT', 'GTAGGTATTATGTGTATTATGGATG', 'TGCTCGT', 'CGGC', 'GTATG', 'TCGCT', 'GAAGAGAAG', 'CACAATTTCTTTCTTTAACAC', 'TGCGTGCGGTCCTGGCGTGCGT', 'GCGAAGGAAGCG', 'ATA', 'GATCGCTAG', 'TTATATT', 'GAAG', 'TCACCACT', 'TAAAAT', 'GAGGCAACGGAG', 'TCGAAGAGAAGCT', 'CGTGGCGGTGC', 'CGACAGC', 'GGAGAGTCGCGCGCTGAGAGG', 'GACAG', 'TACCAT', 'TATGTGTAT', 'GGCGG', 'AGGTATTATGTGTATTATGGA', 'TTCTT', 'CAC', 'TCTTTCT', 'TCGCGCGCT', 'ATTTA', 'AAGAA', 'ATAGGTGTGGATA', 'CTAAACGCGACAGCGCAAATC', 'AGTCGCGCGCTGA', 'TTTTGCCCCGGCCCCGTTTT', 'CCC', 'AAATAGGTGTGGATAAA', 'CTGCGAAGGAAGCGTC', 'GATTTAG', 'GCCG', 'GGTCACTGG', 'AAA', 'GCGTGCGGTCCTGGCGTGCG', 'TTTGCCCCGGCCCCGTTT', 'TTTT', 'TCCT', 'AAATTCGAAGAGAAGCTTAAA', 'TGGCGGT', 'AGGTGTGGA', 'GAGAG', 'CAAAAC', 'TAAAATTCGAAGAGAAGCTTAAAAT', 'ACTCA', 'CATACCATAC', 'ATGCGTGCGGTCCTGGCGTGCGTA', 'GCCCCGGCCCCG', 'GAG', 'TCACT', 'ACA', 'CTTTATATTTC', 'GTGCGGTCCTGGCGTG', 'AAGGAA', 'ACCA']\n"
     ]
    }
   ],
   "source": [
    "#Part A\n",
    "#Use a list comprehension to sort out any palindomes that are less than 3 in length\n",
    "allPalThree = [palindrome for palindrome in all_palindromes(sequence) if len(palindrome) >=3]\n",
    "print(allPalThree)"
   ]
  },
  {
   "cell_type": "code",
   "execution_count": 282,
   "metadata": {},
   "outputs": [
    {
     "name": "stdout",
     "output_type": "stream",
     "text": [
      "Number of Unique Palindromes greater than three is:  177\n"
     ]
    }
   ],
   "source": [
    "print(\"Number of Unique Palindromes greater than three is: \",len(allPalThree))"
   ]
  },
  {
   "cell_type": "code",
   "execution_count": 283,
   "metadata": {},
   "outputs": [
    {
     "name": "stdout",
     "output_type": "stream",
     "text": [
      "The longest palindrome found:  CGTAGGTATTATGTGTATTATGGATGC\n"
     ]
    }
   ],
   "source": [
    "#Part B\n",
    "print(\"The longest palindrome found: \", max(allPalThree, key=len))"
   ]
  },
  {
   "cell_type": "markdown",
   "metadata": {},
   "source": [
    "# Problem 4 (25 points)\n",
    "\n",
    "### Part A) What is the most common letter found in the words listed below? (10 points)\n",
    "\n",
    "### Part B) What letters *don't* appear (i.e, are missing from the alphabet a-z)  in the words in the wordList below?  (15 points)\n"
   ]
  },
  {
   "cell_type": "code",
   "execution_count": 146,
   "metadata": {},
   "outputs": [],
   "source": [
    "wordList = [\"hello\", \"class\", \"we\", \"hope\", \"you\", \"enjoyed\", \"the\", \"semester\", \"can\", \"you\", \"solve\", \"this\", \"problem\", \"accurately\"]"
   ]
  },
  {
   "cell_type": "code",
   "execution_count": 176,
   "metadata": {},
   "outputs": [
    {
     "name": "stdout",
     "output_type": "stream",
     "text": [
      "Counter({'e': 12, 'o': 7, 'l': 6, 's': 6, 'h': 4, 'c': 4, 'a': 4, 'y': 4, 't': 4, 'u': 3, 'r': 3, 'p': 2, 'n': 2, 'm': 2, 'w': 1, 'j': 1, 'd': 1, 'v': 1, 'i': 1, 'b': 1})\n"
     ]
    }
   ],
   "source": [
    "#Part A\n",
    "#Source: https://www.hackerrank.com/challenges/collections-counter/problem\n",
    "\n",
    "from collections import Counter\n",
    "\n",
    "#Convert all the words to a single string\n",
    "test = \"\".join(wordList)\n",
    "\n",
    "#Convert the single string to a list of letters\n",
    "wordChar = list(test)\n",
    "\n",
    "#Use the Counter library to sort and print the results \n",
    "print(Counter(wordChar))"
   ]
  },
  {
   "cell_type": "markdown",
   "metadata": {},
   "source": [
    "As seen above, <b>\"e\" is the most common letter</b>!!"
   ]
  },
  {
   "cell_type": "code",
   "execution_count": 187,
   "metadata": {},
   "outputs": [
    {
     "name": "stdout",
     "output_type": "stream",
     "text": [
      "Missing values: {'k', 'x', 'g', 'z', 'f', 'q'}\n"
     ]
    }
   ],
   "source": [
    "#Part B\n",
    "#Source: https://www.geeksforgeeks.org/python-find-missing-additional-values-two-lists/\n",
    "import string\n",
    "az = string.ascii_lowercase #get a through z as a string\n",
    "azChar = \"\".join(az)\n",
    "print(\"Missing values:\", set(azChar).difference(wordChar))"
   ]
  },
  {
   "cell_type": "markdown",
   "metadata": {},
   "source": [
    "# Problem 5 (25 points)\n",
    "\n",
    "### You are provided the following 3 DNA sequences:\n",
    "\n",
    "### Sequence 1: ATCGTACGATCGATCGATCGCTAGACGTATCA\n",
    "### Sequence 2: actgatcgacgatcgatcgatcacgactd\n",
    "### Sequence 3: ACTGAC-ACTGT--ACTGTA----CATGTG\n",
    "\n",
    "### You have received some messy Sequence DNA data and will need to clean it up.  Remove non-DNA characters (DNA consists of `ACTG` or `actg` characters) (5 points).   Convert all data to uppercase and combine all 3 sequences into 1 sequence (5 points).  Print the length of your new sequence and finally write the length of your new sequence and your new sequence in a file called `mysequence.txt'.  Include your new txt file in the zip file submission.  Also list the length of your new sequence and the new sequence in a cell. (10 points). \n",
    "\n",
    "### Note: You need to write python code to obtain the desired result. You may not do this by hand, although you are free to verify your results by hand.\n",
    "\n",
    "An example is provided here for illustrative purposes:\n",
    "\n",
    "Sequence 1: ACT\n",
    "Sequence 2: tca\n",
    "Sequence 3: C-T\n",
    "\n",
    "<p>You will output in a notebook cell: Your new DNA sequence: ACTTCACT and the Length of the DNA sequence = 8</p>\n",
    "<p>File: mysequence.txt will contain: Your new DNA sequence: ACTTCACT and the Length of the DNA sequence = 8</p>\n",
    "\n",
    "#### Fun FACT: The total length of DNA in 1 human equals 70 round trips from the Earth to the Sun."
   ]
  },
  {
   "cell_type": "markdown",
   "metadata": {},
   "source": [
    "# Problem 6 (25 points)\n",
    "\n",
    "### ***Flatten out*** the following list `mylist`\n",
    "\n",
    "Note: ***Flattening out*** a structure means to convert all contained substructures into its most basic constituent elements so that the structure only contains these basic constituent elements. You need to write a python program to obtain the desired result listed in the example. You may not do this by hand, although you are free to verify your results by hand. (25 points)\n",
    "\n",
    "Illustrative example:\n",
    "* non_flat = [ [1,2,3], [4,[5,6]], [7,8,'hello world'] ]\n",
    "* flat = [1,2,3,4,5,6,7,8,'hello world']"
   ]
  },
  {
   "cell_type": "code",
   "execution_count": 188,
   "metadata": {},
   "outputs": [],
   "source": [
    "mylist = [[0, 10, 5, 8, 0, 1, 9],\n",
    " ['not'],\n",
    " ['to'],\n",
    " [5, 8, 6, 7, 7, 3, 2],\n",
    " [10, 10, 3, 9, 6, 5, 7, 0, 10, 5],\n",
    " ['to'],\n",
    " [1],\n",
    " [2, 8],\n",
    " [7, 6, 10, 2, 6, 6, 2, 6],\n",
    " [0],\n",
    " [2, 9, 2, 1, 2, 2, 9, 7, 3, 6],\n",
    " [1, 6, 4, 0, 8],\n",
    " ['not'],\n",
    " [0, 4, 4, 7, 10, 2, 8, 8, 6, 4],\n",
    " ['to']]"
   ]
  },
  {
   "cell_type": "code",
   "execution_count": 189,
   "metadata": {},
   "outputs": [],
   "source": [
    "flat_list = [item for sublist in mylist for item in sublist]"
   ]
  },
  {
   "cell_type": "code",
   "execution_count": 202,
   "metadata": {},
   "outputs": [
    {
     "name": "stdout",
     "output_type": "stream",
     "text": [
      "Flattened List:  [0, 10, 5, 8, 0, 1, 9, 'not', 'to', 5, 8, 6, 7, 7, 3, 2, 10, 10, 3, 9, 6, 5, 7, 0, 10, 5, 'to', 1, 2, 8, 7, 6, 10, 2, 6, 6, 2, 6, 0, 2, 9, 2, 1, 2, 2, 9, 7, 3, 6, 1, 6, 4, 0, 8, 'not', 0, 4, 4, 7, 10, 2, 8, 8, 6, 4, 'to']\n"
     ]
    }
   ],
   "source": [
    "print ('Flattened List: ', flat_list) "
   ]
  },
  {
   "cell_type": "markdown",
   "metadata": {},
   "source": [
    "# Extra Credit (bonus points) 20 points\n",
    "\n",
    "Tackle the following `mylist2` example by flattening it similar to problem 6. \n",
    "\n",
    "It might help to put keyboard focus on the cell below, and use the arrow keys to successively highlight closing brackets and allow python to highlight *find* the corresponding opening bracket, to help you understand the structure of the list.\n"
   ]
  },
  {
   "cell_type": "code",
   "execution_count": 193,
   "metadata": {},
   "outputs": [],
   "source": [
    "mylist2 = [[[0, 10, 5, 8], 0, 1, 9],\n",
    " ['not'],\n",
    " ['to'],\n",
    " [5, 8, 6, 7, 7, 3, 2],\n",
    " [10, 10, [3, 9, [6, [5, [7]]], 'or', 10, 5]],\n",
    " ['to'],\n",
    " [[1]],\n",
    " [2, 8],\n",
    " [[7, 6, 10, [2, 'be', 6], 2, 6],\n",
    " [0],\n",
    " [2, 9, 2, 1, 2, 2, 9, 7, 3, 6]],\n",
    " [1, 6, 4, 0, 8],\n",
    " ['not'],\n",
    " [0, 4, 4, 7, 10, [2], [[8]], 8, [[[6]]], 4],\n",
    " ['to']]"
   ]
  },
  {
   "cell_type": "code",
   "execution_count": 284,
   "metadata": {},
   "outputs": [
    {
     "name": "stdout",
     "output_type": "stream",
     "text": [
      "Flattened List 2:  [0, 10, 5, 8, 0, 1, 9, 'not', 'to', 5, 8, 6, 7, 7, 3, 2, 10, 10, 3, 9, 6, 5, 7, 'or', 10, 5, 'to', 1, 2, 8, 7, 6, 10, 2, 'be', 6, 2, 6, 0, 2, 9, 2, 1, 2, 2, 9, 7, 3, 6, 1, 6, 4, 0, 8, 'not', 0, 4, 4, 7, 10, 2, 8, 8, 6, 4, 'to']\n"
     ]
    }
   ],
   "source": [
    "#Source: https://www.geeksforgeeks.org/python-convert-a-nested-list-into-a-flat-list/\n",
    "# output list \n",
    "flat_list2 = [] \n",
    "  \n",
    "# function used for removing nested lists in python.  \n",
    "def removeNestings(l): \n",
    "    for i in l: \n",
    "        if type(i) == list: \n",
    "            removeNestings(i) \n",
    "        else: \n",
    "            flat_list2.append(i) \n",
    "            \n",
    "removeNestings(mylist2) \n",
    "print ('Flattened List 2: ', flat_list2) "
   ]
  }
 ],
 "metadata": {
  "kernelspec": {
   "display_name": "Python 3",
   "language": "python",
   "name": "python3"
  },
  "language_info": {
   "codemirror_mode": {
    "name": "ipython",
    "version": 3
   },
   "file_extension": ".py",
   "mimetype": "text/x-python",
   "name": "python",
   "nbconvert_exporter": "python",
   "pygments_lexer": "ipython3",
   "version": "3.7.1"
  }
 },
 "nbformat": 4,
 "nbformat_minor": 2
}
