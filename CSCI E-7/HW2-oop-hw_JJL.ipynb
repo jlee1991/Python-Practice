{
 "cells": [
  {
   "cell_type": "markdown",
   "metadata": {},
   "source": [
    "<div style=\"text-align: right\">CSCI E-7 Introduction to Python Programming for Life Sciences</div>\n",
    "<div style=\"text-align: right\">Dino Konstantopoulos, 11 February 2019, due two weeks from now!</div>\n",
    "\n",
    "# Object Oriented Programming Homework\n",
    "\n",
    "Create a dental and vision insurance plan class that has two attributes:\n",
    "\n",
    "* owner\n",
    "* balance\n",
    "\n",
    "and two methods:\n",
    "\n",
    "* deposit\n",
    "* withdraw\n",
    "\n",
    "You may deposit funds in the account only on the first day of the month. You may withdraw funds to pay for dental and vision care at any time throughout the year. Withdrawals may not exceed the available balance.\n",
    "\n",
    "Instantiate your class, make several deposits and withdrawals, simulate different days of deposit, and and test to make sure the account can't be overdrawn."
   ]
  },
  {
   "cell_type": "code",
   "execution_count": 275,
   "metadata": {},
   "outputs": [],
   "source": [
    "class DentalVision:\n",
    "    \n",
    "    #Instantiate the class and accept the inputs\n",
    "    #__init__ is the constructor - parameters should be passed here\n",
    "     def __init__(self, owner, balance):\n",
    "        self.owner = owner\n",
    "        self.balance = balance\n",
    "        \n",
    "    #Paramaters are returned for the object\n",
    "     def __str__(self): \n",
    "        return \"Account Owner: \"+self.owner+\"\\nAccount Balance: $%s\" %(self.balance)\n",
    "\n",
    "    # Method for depositing - takes in amount and date (as provided by the HW)\n",
    "    # Limiting depositing day to first day of the month\n",
    "    # Assumes that user input for amount is zero or a positive numeric value\n",
    "    # Assumes that user input for date is given in MM/DD/YYYY\n",
    "     def deposit(self, amount, date):\n",
    "        from datetime import datetime\n",
    "        date = datetime.strptime(date,'%m/%d/%Y')\n",
    "        if (date.day != 1):\n",
    "            print(\"Deposit cannot be accepted until first day of the month.\")\n",
    "            return \"Current Balance: $%s posted on %s\" %(self.balance, date)\n",
    "        elif (date.day == 1):\n",
    "            self.balance = self.balance + amount\n",
    "            print(\"Deposit Accepted\")\n",
    "            return \"New Balance: $%s posted on %s\" %(self.balance, date)\n",
    "        \n",
    "    # Method for withdrawal - takes in amount (as provided by the HW)\n",
    "    # Assumes that user input for amount is zero or a positive numeric value\n",
    "     def withdraw(self, amount):\n",
    "        if (self.balance - amount >= 0):\n",
    "            self.balance = self.balance - amount\n",
    "            print(\"Withdrawal Accepted\")\n",
    "            return \"New Balance: $%s\" %(self.balance)\n",
    "        \n",
    "        elif (self.balance - amount < 0):\n",
    "            print(\"Funds Unavailable!\")\n",
    "            return \"Current Balance: $%s\" %(self.balance)"
   ]
  },
  {
   "cell_type": "code",
   "execution_count": 276,
   "metadata": {},
   "outputs": [],
   "source": [
    "# 1. Instantiate the class\n",
    "acct1 = DentalVision('Jose',100)"
   ]
  },
  {
   "cell_type": "code",
   "execution_count": 277,
   "metadata": {},
   "outputs": [
    {
     "name": "stdout",
     "output_type": "stream",
     "text": [
      "Account Owner: Jose\n",
      "Account Balance: $100\n"
     ]
    }
   ],
   "source": [
    "# 2. Print the object\n",
    "print(acct1)"
   ]
  },
  {
   "cell_type": "code",
   "execution_count": 278,
   "metadata": {},
   "outputs": [
    {
     "data": {
      "text/plain": [
       "'Jose'"
      ]
     },
     "execution_count": 278,
     "metadata": {},
     "output_type": "execute_result"
    }
   ],
   "source": [
    "# 3. Show the account owner attribute\n",
    "acct1.owner"
   ]
  },
  {
   "cell_type": "code",
   "execution_count": 279,
   "metadata": {},
   "outputs": [
    {
     "data": {
      "text/plain": [
       "100"
      ]
     },
     "execution_count": 279,
     "metadata": {},
     "output_type": "execute_result"
    }
   ],
   "source": [
    "# 4. Show the account balance attribute\n",
    "acct1.balance"
   ]
  },
  {
   "cell_type": "code",
   "execution_count": 280,
   "metadata": {},
   "outputs": [
    {
     "name": "stdout",
     "output_type": "stream",
     "text": [
      "Deposit cannot be accepted until first day of the month.\n"
     ]
    },
    {
     "data": {
      "text/plain": [
       "'Current Balance: $100 posted on 2019-01-02 00:00:00'"
      ]
     },
     "execution_count": 280,
     "metadata": {},
     "output_type": "execute_result"
    }
   ],
   "source": [
    "# 5. Make a series of deposits and withdrawals\n",
    "acct1.deposit(50, '01/02/2019')"
   ]
  },
  {
   "cell_type": "code",
   "execution_count": 281,
   "metadata": {},
   "outputs": [
    {
     "name": "stdout",
     "output_type": "stream",
     "text": [
      "Deposit Accepted\n"
     ]
    },
    {
     "data": {
      "text/plain": [
       "'New Balance: $150 posted on 2019-02-01 00:00:00'"
      ]
     },
     "execution_count": 281,
     "metadata": {},
     "output_type": "execute_result"
    }
   ],
   "source": [
    "acct1.deposit(50, '02/01/2019')"
   ]
  },
  {
   "cell_type": "code",
   "execution_count": 282,
   "metadata": {},
   "outputs": [
    {
     "name": "stdout",
     "output_type": "stream",
     "text": [
      "Withdrawal Accepted\n"
     ]
    },
    {
     "data": {
      "text/plain": [
       "'New Balance: $75'"
      ]
     },
     "execution_count": 282,
     "metadata": {},
     "output_type": "execute_result"
    }
   ],
   "source": [
    "acct1.withdraw(75)"
   ]
  },
  {
   "cell_type": "code",
   "execution_count": 283,
   "metadata": {
    "scrolled": true
   },
   "outputs": [
    {
     "name": "stdout",
     "output_type": "stream",
     "text": [
      "Funds Unavailable!\n"
     ]
    },
    {
     "data": {
      "text/plain": [
       "'Current Balance: $75'"
      ]
     },
     "execution_count": 283,
     "metadata": {},
     "output_type": "execute_result"
    }
   ],
   "source": [
    "# 6. Make a withdrawal that exceeds the available balance\n",
    "acct1.withdraw(500)"
   ]
  }
 ],
 "metadata": {
  "kernelspec": {
   "display_name": "Python 3",
   "language": "python",
   "name": "python3"
  },
  "language_info": {
   "codemirror_mode": {
    "name": "ipython",
    "version": 3
   },
   "file_extension": ".py",
   "mimetype": "text/x-python",
   "name": "python",
   "nbconvert_exporter": "python",
   "pygments_lexer": "ipython3",
   "version": "3.7.1"
  }
 },
 "nbformat": 4,
 "nbformat_minor": 2
}
